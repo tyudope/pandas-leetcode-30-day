{
 "cells": [
  {
   "metadata": {},
   "cell_type": "markdown",
   "source": [
    "# 📍 Problem Title: Second Highest Salary\n",
    "\n",
    "🔗 [LeetCode Problem 176 – Second Highest Salary](https://leetcode.com/problems/second-highest-salary/description/?envType=study-plan-v2&envId=30-days-of-pandas)\n",
    "\n",
    "---\n",
    "\n",
    "## 📝 Problem Description\n",
    "We are given a table `Employee` with the following schema:\n",
    "\n",
    "| Column | Type |\n",
    "|--------|------|\n",
    "| id     | int  |\n",
    "| salary | int  |\n",
    "\n",
    "- `id` is the primary key.\n",
    "- Each row contains the salary of an employee.\n",
    "\n",
    "Write a solution to **find the second highest distinct salary** from the table.\n",
    "If there is no second highest salary, return `null`.\n",
    "\n",
    "---\n",
    "\n",
    "## 🧾 Example\n",
    "\n",
    "**Input:**\n",
    "\n",
    "| id | salary |\n",
    "|----|--------|\n",
    "| 1  | 100    |\n",
    "| 2  | 200    |\n",
    "| 3  | 300    |\n",
    "\n",
    "**Output:**\n",
    "\n",
    "| SecondHighestSalary |\n",
    "|----------------------|\n",
    "| 200                  |\n",
    "\n",
    "---\n",
    "\n",
    "## 🧠 Key Concepts\n",
    "- Removing duplicate salaries using `drop_duplicates()`\n",
    "- Sorting values with `sort_values(ascending=False)`\n",
    "- Accessing the second row with `.iloc[1]`\n",
    "- Handling edge cases where fewer than 2 distinct salaries exist\n",
    "- Building a result DataFrame with a single scalar\n",
    "\n",
    "---\n"
   ],
   "id": "ada5578c3a967d4f"
  },
  {
   "cell_type": "code",
   "id": "initial_id",
   "metadata": {
    "collapsed": true,
    "ExecuteTime": {
     "end_time": "2025-08-24T07:24:31.469413Z",
     "start_time": "2025-08-24T07:24:31.464477Z"
    }
   },
   "source": [
    "import pandas as pd\n",
    "data = [\n",
    "    [1 , 100],\n",
    "    [2, 100],\n",
    "    [3,200],\n",
    "    [4,300],\n",
    "    [5,400],\n",
    "    [6,275],\n",
    "    [7,95]\n",
    "]\n",
    "\n",
    "employees = pd.DataFrame(data = data , columns = [\"id\" , \"salary\"])"
   ],
   "outputs": [],
   "execution_count": 99
  },
  {
   "metadata": {
    "ExecuteTime": {
     "end_time": "2025-08-24T07:24:31.480354Z",
     "start_time": "2025-08-24T07:24:31.476012Z"
    }
   },
   "cell_type": "code",
   "source": [
    "# FIRST APPROACH.\n",
    "# is explicit and easy to follow.\n",
    "def second_highest_salary(employees : pd.DataFrame) -> pd.DataFrame:\n",
    "    distinct_sal = employees.drop_duplicates('salary')\n",
    "    sorted_sal = distinct_sal.sort_values(by = \"salary\", ascending = False)\n",
    "    if len(sorted_sal) <= 1:\n",
    "        return pd.DataFrame({\"SecondHighestSalary\" :[None]})\n",
    "    return pd.DataFrame({\"SecondHighestSalary\" : [sorted_sal.iloc[1]['salary']]})\n",
    "\n"
   ],
   "id": "721a557a88c4c57c",
   "outputs": [],
   "execution_count": 100
  },
  {
   "metadata": {
    "ExecuteTime": {
     "end_time": "2025-08-24T07:24:31.494751Z",
     "start_time": "2025-08-24T07:24:31.489750Z"
    }
   },
   "cell_type": "code",
   "source": "second_highest_salary(employees)",
   "id": "6d47c22187970530",
   "outputs": [
    {
     "data": {
      "text/plain": [
       "   SecondHighestSalary\n",
       "0                  300"
      ],
      "text/html": [
       "<div>\n",
       "<style scoped>\n",
       "    .dataframe tbody tr th:only-of-type {\n",
       "        vertical-align: middle;\n",
       "    }\n",
       "\n",
       "    .dataframe tbody tr th {\n",
       "        vertical-align: top;\n",
       "    }\n",
       "\n",
       "    .dataframe thead th {\n",
       "        text-align: right;\n",
       "    }\n",
       "</style>\n",
       "<table border=\"1\" class=\"dataframe\">\n",
       "  <thead>\n",
       "    <tr style=\"text-align: right;\">\n",
       "      <th></th>\n",
       "      <th>SecondHighestSalary</th>\n",
       "    </tr>\n",
       "  </thead>\n",
       "  <tbody>\n",
       "    <tr>\n",
       "      <th>0</th>\n",
       "      <td>300</td>\n",
       "    </tr>\n",
       "  </tbody>\n",
       "</table>\n",
       "</div>"
      ]
     },
     "execution_count": 101,
     "metadata": {},
     "output_type": "execute_result"
    }
   ],
   "execution_count": 101
  },
  {
   "metadata": {
    "ExecuteTime": {
     "end_time": "2025-08-24T07:24:31.525561Z",
     "start_time": "2025-08-24T07:24:31.523042Z"
    }
   },
   "cell_type": "code",
   "source": [
    "# Second Approach.\n",
    "#A tidy, fast, idiomatic alternative.\n",
    "# Shorter, faster, and more idiomatic with Pandas for 'top-k' problems.\n",
    "def second_highest_salary(employees : pd.DataFrame) -> pd.DataFrame:\n",
    "\n",
    "    top2 = employees['salary'].drop_duplicates().nlargest(2)\n",
    "    if len(top2) == 2:\n",
    "        val = top2.iloc[1]\n",
    "    else:\n",
    "        val = None\n",
    "    return pd.DataFrame({'SecondHighestSalary' : [val]})"
   ],
   "id": "c3aea1a0dd6be5b",
   "outputs": [],
   "execution_count": 102
  },
  {
   "metadata": {
    "ExecuteTime": {
     "end_time": "2025-08-24T07:24:31.563541Z",
     "start_time": "2025-08-24T07:24:31.558817Z"
    }
   },
   "cell_type": "code",
   "source": "second_highest_salary(employees)",
   "id": "3da7e9d402ed0464",
   "outputs": [
    {
     "data": {
      "text/plain": [
       "   SecondHighestSalary\n",
       "0                  300"
      ],
      "text/html": [
       "<div>\n",
       "<style scoped>\n",
       "    .dataframe tbody tr th:only-of-type {\n",
       "        vertical-align: middle;\n",
       "    }\n",
       "\n",
       "    .dataframe tbody tr th {\n",
       "        vertical-align: top;\n",
       "    }\n",
       "\n",
       "    .dataframe thead th {\n",
       "        text-align: right;\n",
       "    }\n",
       "</style>\n",
       "<table border=\"1\" class=\"dataframe\">\n",
       "  <thead>\n",
       "    <tr style=\"text-align: right;\">\n",
       "      <th></th>\n",
       "      <th>SecondHighestSalary</th>\n",
       "    </tr>\n",
       "  </thead>\n",
       "  <tbody>\n",
       "    <tr>\n",
       "      <th>0</th>\n",
       "      <td>300</td>\n",
       "    </tr>\n",
       "  </tbody>\n",
       "</table>\n",
       "</div>"
      ]
     },
     "execution_count": 103,
     "metadata": {},
     "output_type": "execute_result"
    }
   ],
   "execution_count": 103
  }
 ],
 "metadata": {
  "kernelspec": {
   "display_name": "Python 3",
   "language": "python",
   "name": "python3"
  },
  "language_info": {
   "codemirror_mode": {
    "name": "ipython",
    "version": 2
   },
   "file_extension": ".py",
   "mimetype": "text/x-python",
   "name": "python",
   "nbconvert_exporter": "python",
   "pygments_lexer": "ipython2",
   "version": "2.7.6"
  }
 },
 "nbformat": 4,
 "nbformat_minor": 5
}
