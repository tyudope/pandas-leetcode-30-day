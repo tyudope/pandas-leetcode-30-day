{
 "cells": [
  {
   "metadata": {},
   "cell_type": "markdown",
   "source": [
    "# 📍 Problem Title: Delete Duplicate Emails\n",
    "\n",
    "🔗 [LeetCode Problem 196 – Delete Duplicate Emails](https://leetcode.com/problems/delete-duplicate-emails/description/?envType=study-plan-v2&envId=30-days-of-pandas)\n",
    "\n",
    "---\n",
    "\n",
    "## 📝 Problem Description\n",
    "We are given a table `Person` with the following schema:\n",
    "\n",
    "| Column | Type |\n",
    "|--------|------|\n",
    "| id     | int  |\n",
    "| email  | str  |\n",
    "\n",
    "- `id` is the primary key.\n",
    "- Each row contains the email address of a person.\n",
    "\n",
    "Write a solution to **delete all duplicate emails**, keeping only the row with the **smallest id** for each unique email.\n",
    "\n",
    "---\n",
    "\n",
    "## 🧾 Example\n",
    "\n",
    "**Input:**\n",
    "\n",
    "| id | email            |\n",
    "|----|------------------|\n",
    "| 1  | john@example.com |\n",
    "| 2  | bob@example.com  |\n",
    "| 3  | john@example.com |\n",
    "\n",
    "**Output:**\n",
    "\n",
    "| id | email            |\n",
    "|----|------------------|\n",
    "| 1  | john@example.com |\n",
    "| 2  | bob@example.com  |\n",
    "\n",
    "---\n",
    "\n",
    "## 🧠 Key Concepts\n",
    "- Sorting rows by `id` to ensure we keep the smallest id for each email.\n",
    "- Using `drop_duplicates('email')` to remove duplicate emails while keeping the first occurrence.\n",
    "- Operation is performed **in place** to update the original DataFrame.\n",
    "\n",
    "---\n",
    "\n",
    "✅ This approach guarantees that only one row per unique email remains, and it always keeps the lowest `id`."
   ],
   "id": "38c63da75c6ca129"
  },
  {
   "cell_type": "code",
   "id": "initial_id",
   "metadata": {
    "collapsed": true,
    "ExecuteTime": {
     "end_time": "2025-08-29T03:24:30.721443Z",
     "start_time": "2025-08-29T03:24:30.480261Z"
    }
   },
   "source": "import pandas as pd",
   "outputs": [],
   "execution_count": 1
  },
  {
   "metadata": {
    "ExecuteTime": {
     "end_time": "2025-08-29T03:25:15.798844Z",
     "start_time": "2025-08-29T03:25:15.794092Z"
    }
   },
   "cell_type": "code",
   "source": [
    "data = [\n",
    "    [1, \"john@example.com\"],\n",
    "    [2, \"bob@example.com\"],\n",
    "    [3, \"john@example.com\"],  # duplicate of id=1\n",
    "    [4, \"alice@example.com\"],\n",
    "    [5, \"bob@example.com\"],   # duplicate of id=2\n",
    "]\n",
    "\n",
    "person = pd.DataFrame(data, columns=[\"id\", \"email\"])"
   ],
   "id": "27b7fc32a04b5fb2",
   "outputs": [],
   "execution_count": 2
  },
  {
   "metadata": {
    "ExecuteTime": {
     "end_time": "2025-08-29T03:26:16.932532Z",
     "start_time": "2025-08-29T03:26:16.929426Z"
    }
   },
   "cell_type": "code",
   "source": [
    "def delete_duplicate_emails(person : pd.DataFrame) -> None:\n",
    "    person.sort_values(by = 'id' , inplace = True)\n",
    "    person.drop_duplicates('email' , inplace = True)"
   ],
   "id": "959fc5f78c91f68c",
   "outputs": [],
   "execution_count": 3
  },
  {
   "metadata": {
    "ExecuteTime": {
     "end_time": "2025-08-29T03:26:19.804877Z",
     "start_time": "2025-08-29T03:26:19.800209Z"
    }
   },
   "cell_type": "code",
   "source": "delete_duplicate_emails(person)",
   "id": "dd0a33dea3ef793c",
   "outputs": [],
   "execution_count": 4
  },
  {
   "metadata": {
    "ExecuteTime": {
     "end_time": "2025-08-29T03:26:26.669313Z",
     "start_time": "2025-08-29T03:26:26.662419Z"
    }
   },
   "cell_type": "code",
   "source": "person",
   "id": "bde612406a69bb4",
   "outputs": [
    {
     "data": {
      "text/plain": [
       "   id              email\n",
       "0   1   john@example.com\n",
       "1   2    bob@example.com\n",
       "3   4  alice@example.com"
      ],
      "text/html": [
       "<div>\n",
       "<style scoped>\n",
       "    .dataframe tbody tr th:only-of-type {\n",
       "        vertical-align: middle;\n",
       "    }\n",
       "\n",
       "    .dataframe tbody tr th {\n",
       "        vertical-align: top;\n",
       "    }\n",
       "\n",
       "    .dataframe thead th {\n",
       "        text-align: right;\n",
       "    }\n",
       "</style>\n",
       "<table border=\"1\" class=\"dataframe\">\n",
       "  <thead>\n",
       "    <tr style=\"text-align: right;\">\n",
       "      <th></th>\n",
       "      <th>id</th>\n",
       "      <th>email</th>\n",
       "    </tr>\n",
       "  </thead>\n",
       "  <tbody>\n",
       "    <tr>\n",
       "      <th>0</th>\n",
       "      <td>1</td>\n",
       "      <td>john@example.com</td>\n",
       "    </tr>\n",
       "    <tr>\n",
       "      <th>1</th>\n",
       "      <td>2</td>\n",
       "      <td>bob@example.com</td>\n",
       "    </tr>\n",
       "    <tr>\n",
       "      <th>3</th>\n",
       "      <td>4</td>\n",
       "      <td>alice@example.com</td>\n",
       "    </tr>\n",
       "  </tbody>\n",
       "</table>\n",
       "</div>"
      ]
     },
     "execution_count": 5,
     "metadata": {},
     "output_type": "execute_result"
    }
   ],
   "execution_count": 5
  },
  {
   "metadata": {},
   "cell_type": "code",
   "outputs": [],
   "execution_count": null,
   "source": "",
   "id": "394703acbe560959"
  }
 ],
 "metadata": {
  "kernelspec": {
   "display_name": "Python 3",
   "language": "python",
   "name": "python3"
  },
  "language_info": {
   "codemirror_mode": {
    "name": "ipython",
    "version": 2
   },
   "file_extension": ".py",
   "mimetype": "text/x-python",
   "name": "python",
   "nbconvert_exporter": "python",
   "pygments_lexer": "ipython2",
   "version": "2.7.6"
  }
 },
 "nbformat": 4,
 "nbformat_minor": 5
}
