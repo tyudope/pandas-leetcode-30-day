{
 "cells": [
  {
   "metadata": {},
   "cell_type": "markdown",
   "source": [
    "# 📍 Problem Title: Rank Scores\n",
    "\n",
    "🔗 [LeetCode Problem 178 – Rank Scores](https://leetcode.com/problems/rank-scores/description/?envType=study-plan-v2&envId=30-days-of-pandas)\n",
    "\n",
    "---\n",
    "\n",
    "## 📝 Problem Description\n",
    "We are given a table `Scores` with a single column:\n",
    "\n",
    "| Column | Type |\n",
    "|--------|------|\n",
    "| score  | int  |\n",
    "\n",
    "- Each row contains the score of a user.\n",
    "- Write a solution to **rank the scores** in descending order.\n",
    "- The ranking must follow the **dense ranking rule**:\n",
    "  - The highest score has rank `1`.\n",
    "  - If two scores are equal, they receive the same rank.\n",
    "  - The next distinct score gets the next rank (no gaps).\n",
    "\n",
    "---\n",
    "\n",
    "## 🧾 Example\n",
    "\n",
    "**Input:**\n",
    "\n",
    "| score |\n",
    "|-------|\n",
    "| 100   |\n",
    "| 90    |\n",
    "| 90    |\n",
    "| 80    |\n",
    "\n",
    "**Output:**\n",
    "\n",
    "| score | rank |\n",
    "|-------|------|\n",
    "| 100   | 1    |\n",
    "| 90    | 2    |\n",
    "| 90    | 2    |\n",
    "| 80    | 3    |\n",
    "\n",
    "---\n",
    "\n",
    "## 🧠 Key Concepts\n",
    "- Sorting scores in **descending order**.\n",
    "- Using **dense ranking** to handle ties properly.\n",
    "- Dense ranking ensures that ranks are consecutive without gaps.\n",
    "- In Pandas, `rank(method='dense', ascending=False)` can be used to assign ranks in this way.\n",
    "\n",
    "---"
   ],
   "id": "32f7bf11397b8192"
  },
  {
   "cell_type": "code",
   "id": "initial_id",
   "metadata": {
    "collapsed": true,
    "ExecuteTime": {
     "end_time": "2025-08-29T03:04:48.712719Z",
     "start_time": "2025-08-29T03:04:48.709301Z"
    }
   },
   "source": "import pandas as pd\n",
   "outputs": [],
   "execution_count": 19
  },
  {
   "metadata": {
    "ExecuteTime": {
     "end_time": "2025-08-29T03:04:48.739023Z",
     "start_time": "2025-08-29T03:04:48.732949Z"
    }
   },
   "cell_type": "code",
   "source": [
    "scores_data = [\n",
    "    [1,3.5],\n",
    "    [2,3.65],\n",
    "    [3,4.00],\n",
    "    [4,3.85],\n",
    "    [5,4.00],\n",
    "    [6,3.65]\n",
    "]\n",
    "scores = pd.DataFrame(data = scores_data , columns = ['id','score'])\n",
    "scores"
   ],
   "id": "609711d1eed2270b",
   "outputs": [
    {
     "data": {
      "text/plain": [
       "   id  score\n",
       "0   1   3.50\n",
       "1   2   3.65\n",
       "2   3   4.00\n",
       "3   4   3.85\n",
       "4   5   4.00\n",
       "5   6   3.65"
      ],
      "text/html": [
       "<div>\n",
       "<style scoped>\n",
       "    .dataframe tbody tr th:only-of-type {\n",
       "        vertical-align: middle;\n",
       "    }\n",
       "\n",
       "    .dataframe tbody tr th {\n",
       "        vertical-align: top;\n",
       "    }\n",
       "\n",
       "    .dataframe thead th {\n",
       "        text-align: right;\n",
       "    }\n",
       "</style>\n",
       "<table border=\"1\" class=\"dataframe\">\n",
       "  <thead>\n",
       "    <tr style=\"text-align: right;\">\n",
       "      <th></th>\n",
       "      <th>id</th>\n",
       "      <th>score</th>\n",
       "    </tr>\n",
       "  </thead>\n",
       "  <tbody>\n",
       "    <tr>\n",
       "      <th>0</th>\n",
       "      <td>1</td>\n",
       "      <td>3.50</td>\n",
       "    </tr>\n",
       "    <tr>\n",
       "      <th>1</th>\n",
       "      <td>2</td>\n",
       "      <td>3.65</td>\n",
       "    </tr>\n",
       "    <tr>\n",
       "      <th>2</th>\n",
       "      <td>3</td>\n",
       "      <td>4.00</td>\n",
       "    </tr>\n",
       "    <tr>\n",
       "      <th>3</th>\n",
       "      <td>4</td>\n",
       "      <td>3.85</td>\n",
       "    </tr>\n",
       "    <tr>\n",
       "      <th>4</th>\n",
       "      <td>5</td>\n",
       "      <td>4.00</td>\n",
       "    </tr>\n",
       "    <tr>\n",
       "      <th>5</th>\n",
       "      <td>6</td>\n",
       "      <td>3.65</td>\n",
       "    </tr>\n",
       "  </tbody>\n",
       "</table>\n",
       "</div>"
      ]
     },
     "execution_count": 20,
     "metadata": {},
     "output_type": "execute_result"
    }
   ],
   "execution_count": 20
  },
  {
   "metadata": {
    "ExecuteTime": {
     "end_time": "2025-08-29T03:16:33.789954Z",
     "start_time": "2025-08-29T03:16:33.787005Z"
    }
   },
   "cell_type": "code",
   "source": [
    "def order_scores(scores : pd.DataFrame) -> pd.DataFrame:\n",
    "\n",
    "    scores.sort_values(by = 'score' , ascending=False , inplace = True)\n",
    "    # In pandas .rank() assign ranks to values. The method parameter changes how ties are handled.\n",
    "    # method = 'dense' -> Dense ranking.\n",
    "    # Equal values get same rank.\n",
    "    # Next distinct value's rank increases by 1 (no gaps).\n",
    "    scores['rank'] = scores['score'].rank(method = 'dense', ascending=False).astype(int)\n",
    "\n",
    "    return scores[['score','rank']]\n"
   ],
   "id": "d23b52276961a17f",
   "outputs": [],
   "execution_count": 43
  },
  {
   "metadata": {
    "ExecuteTime": {
     "end_time": "2025-08-29T03:16:36.790460Z",
     "start_time": "2025-08-29T03:16:36.785262Z"
    }
   },
   "cell_type": "code",
   "source": "order_scores(scores)",
   "id": "57e51b2e1f950c1f",
   "outputs": [
    {
     "data": {
      "text/plain": [
       "   score  rank\n",
       "2   4.00     1\n",
       "4   4.00     1\n",
       "3   3.85     2\n",
       "1   3.65     3\n",
       "5   3.65     3\n",
       "0   3.50     4"
      ],
      "text/html": [
       "<div>\n",
       "<style scoped>\n",
       "    .dataframe tbody tr th:only-of-type {\n",
       "        vertical-align: middle;\n",
       "    }\n",
       "\n",
       "    .dataframe tbody tr th {\n",
       "        vertical-align: top;\n",
       "    }\n",
       "\n",
       "    .dataframe thead th {\n",
       "        text-align: right;\n",
       "    }\n",
       "</style>\n",
       "<table border=\"1\" class=\"dataframe\">\n",
       "  <thead>\n",
       "    <tr style=\"text-align: right;\">\n",
       "      <th></th>\n",
       "      <th>score</th>\n",
       "      <th>rank</th>\n",
       "    </tr>\n",
       "  </thead>\n",
       "  <tbody>\n",
       "    <tr>\n",
       "      <th>2</th>\n",
       "      <td>4.00</td>\n",
       "      <td>1</td>\n",
       "    </tr>\n",
       "    <tr>\n",
       "      <th>4</th>\n",
       "      <td>4.00</td>\n",
       "      <td>1</td>\n",
       "    </tr>\n",
       "    <tr>\n",
       "      <th>3</th>\n",
       "      <td>3.85</td>\n",
       "      <td>2</td>\n",
       "    </tr>\n",
       "    <tr>\n",
       "      <th>1</th>\n",
       "      <td>3.65</td>\n",
       "      <td>3</td>\n",
       "    </tr>\n",
       "    <tr>\n",
       "      <th>5</th>\n",
       "      <td>3.65</td>\n",
       "      <td>3</td>\n",
       "    </tr>\n",
       "    <tr>\n",
       "      <th>0</th>\n",
       "      <td>3.50</td>\n",
       "      <td>4</td>\n",
       "    </tr>\n",
       "  </tbody>\n",
       "</table>\n",
       "</div>"
      ]
     },
     "execution_count": 44,
     "metadata": {},
     "output_type": "execute_result"
    }
   ],
   "execution_count": 44
  }
 ],
 "metadata": {
  "kernelspec": {
   "display_name": "Python 3",
   "language": "python",
   "name": "python3"
  },
  "language_info": {
   "codemirror_mode": {
    "name": "ipython",
    "version": 2
   },
   "file_extension": ".py",
   "mimetype": "text/x-python",
   "name": "python",
   "nbconvert_exporter": "python",
   "pygments_lexer": "ipython2",
   "version": "2.7.6"
  }
 },
 "nbformat": 4,
 "nbformat_minor": 5
}
