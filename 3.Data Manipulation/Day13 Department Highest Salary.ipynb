{
 "cells": [
  {
   "metadata": {},
   "cell_type": "markdown",
   "source": [
    "# 📍 Problem Title: Department Highest Salary\n",
    "\n",
    "🔗 [LeetCode Problem 184 – Department Highest Salary](https://leetcode.com/problems/department-highest-salary/description/?envType=study-plan-v2&envId=30-days-of-pandas)\n",
    "\n",
    "---\n",
    "\n",
    "## 📝 Problem Description\n",
    "You are given two tables:\n",
    "\n",
    "**Department**\n",
    "\n",
    "| Column | Type |\n",
    "|--------|------|\n",
    "| id     | int  |\n",
    "| name   | str  |\n",
    "\n",
    "**Employee**\n",
    "\n",
    "| Column       | Type |\n",
    "|--------------|------|\n",
    "| id           | int  |\n",
    "| name         | str  |\n",
    "| salary       | int  |\n",
    "| departmentId | int  |\n",
    "\n",
    "- `id` is the primary key for both tables.\n",
    "- Each employee belongs to a department.\n",
    "\n",
    "Write a solution to find **the employees who have the highest salary in each department**.\n",
    "Return the result table with the following columns:\n",
    "- `Department`\n",
    "- `Employee`\n",
    "- `Salary`\n",
    "\n",
    "---\n",
    "\n",
    "## 🧾 Example\n",
    "\n",
    "**Input**\n",
    "\n",
    "**Department**\n",
    "\n",
    "| id | name  |\n",
    "|----|-------|\n",
    "| 1  | IT    |\n",
    "| 2  | Sales |\n",
    "\n",
    "**Employee**\n",
    "\n",
    "| id | name  | salary | departmentId |\n",
    "|----|-------|--------|--------------|\n",
    "| 1  | Joe   | 70000  | 1            |\n",
    "| 2  | Jim   | 90000  | 1            |\n",
    "| 3  | Henry | 80000  | 2            |\n",
    "| 4  | Sam   | 60000  | 2            |\n",
    "| 5  | Max   | 90000  | 1            |\n",
    "\n",
    "**Output**\n",
    "\n",
    "| Department | Employee | Salary |\n",
    "|------------|----------|--------|\n",
    "| IT         | Jim      | 90000  |\n",
    "| IT         | Max      | 90000  |\n",
    "| Sales      | Henry    | 80000  |\n",
    "\n",
    "---\n",
    "\n",
    "## 🧠 Key Concepts\n",
    "- Merging employee and department tables (`pd.merge`)\n",
    "- Grouping by department and finding the **maximum salary** (`groupby().max()` or `transform(\"max\")`)\n",
    "- Filtering rows where the employee salary equals the department’s maximum\n",
    "- Returning only the required columns: Department, Employee, Salary\n",
    "\n",
    "---\n",
    "\n",
    "✅ This approach returns **all top earners** in each department (ties included).\n"
   ],
   "id": "2040196096756192"
  },
  {
   "cell_type": "code",
   "id": "initial_id",
   "metadata": {
    "collapsed": true,
    "ExecuteTime": {
     "end_time": "2025-08-25T17:25:41.717489Z",
     "start_time": "2025-08-25T17:25:41.713726Z"
    }
   },
   "source": "import pandas as pd",
   "outputs": [],
   "execution_count": 161
  },
  {
   "metadata": {
    "ExecuteTime": {
     "end_time": "2025-08-25T17:25:41.728916Z",
     "start_time": "2025-08-25T17:25:41.724433Z"
    }
   },
   "cell_type": "code",
   "source": [
    "employee_data = [\n",
    "    [1,'Joe',70000,1],\n",
    "    [2,'Jim',90000,1],\n",
    "    [3,'Henry',80000,2],\n",
    "    [4,'Sam',60000,2],\n",
    "    [5,'Max',90000,1],\n",
    "]\n",
    "df_employee = pd.DataFrame(data = employee_data, columns = ['id','name','salary','departmentId'])"
   ],
   "id": "db2d995b8093f35b",
   "outputs": [],
   "execution_count": 162
  },
  {
   "metadata": {
    "ExecuteTime": {
     "end_time": "2025-08-25T17:25:41.746036Z",
     "start_time": "2025-08-25T17:25:41.743199Z"
    }
   },
   "cell_type": "code",
   "source": [
    "department_data = [\n",
    "    [1,'IT'],\n",
    "    [2,'Sales']\n",
    "]\n",
    "df_department = pd.DataFrame(data = department_data , columns = ['id','name'])\n"
   ],
   "id": "e76f0af5b13ed4f6",
   "outputs": [],
   "execution_count": 163
  },
  {
   "metadata": {
    "ExecuteTime": {
     "end_time": "2025-08-25T18:45:18.998994Z",
     "start_time": "2025-08-25T18:45:18.995503Z"
    }
   },
   "cell_type": "code",
   "source": [
    "def department_highest_salary(employee : pd.DataFrame , department : pd.DataFrame) -> pd.DataFrame:\n",
    "\n",
    "    merge = pd.merge(left = employee , right = department , left_on = 'departmentId', right_on = 'id')\n",
    "    merge.rename(columns = {\"id_x\":\"id\" , \"name_x\":\"name\" , \"id_y\":'depID' , \"name_y\" : 'Department'} , inplace = True)\n",
    "\n",
    "    max_salaries = merge.groupby('Department', as_index = False).max()[['Department','salary']].rename(columns = {\"salary\" : \"max_salary\"})\n",
    "\n",
    "    result_df = max_salaries.merge(merge , on ='Department')\n",
    "    result_df = result_df[result_df[\"max_salary\"] == result_df['salary']]\n",
    "    result_df = result_df[['Department' , 'name','salary']]\n",
    "    result_df.rename(columns = {\"name\":\"Employee\", 'salary':\"Salary\"}, inplace = True)\n",
    "    return result_df"
   ],
   "id": "1010a7181d24db6a",
   "outputs": [],
   "execution_count": 170
  },
  {
   "metadata": {
    "ExecuteTime": {
     "end_time": "2025-08-25T18:43:57.565002Z",
     "start_time": "2025-08-25T18:43:57.554583Z"
    }
   },
   "cell_type": "code",
   "source": "department_highest_salary(df_employee,df_department)",
   "id": "bda038cfa30437a0",
   "outputs": [
    {
     "data": {
      "text/plain": [
       "  Department Employee  Salary\n",
       "1         IT      Jim   90000\n",
       "2         IT      Max   90000\n",
       "3      Sales    Henry   80000"
      ],
      "text/html": [
       "<div>\n",
       "<style scoped>\n",
       "    .dataframe tbody tr th:only-of-type {\n",
       "        vertical-align: middle;\n",
       "    }\n",
       "\n",
       "    .dataframe tbody tr th {\n",
       "        vertical-align: top;\n",
       "    }\n",
       "\n",
       "    .dataframe thead th {\n",
       "        text-align: right;\n",
       "    }\n",
       "</style>\n",
       "<table border=\"1\" class=\"dataframe\">\n",
       "  <thead>\n",
       "    <tr style=\"text-align: right;\">\n",
       "      <th></th>\n",
       "      <th>Department</th>\n",
       "      <th>Employee</th>\n",
       "      <th>Salary</th>\n",
       "    </tr>\n",
       "  </thead>\n",
       "  <tbody>\n",
       "    <tr>\n",
       "      <th>1</th>\n",
       "      <td>IT</td>\n",
       "      <td>Jim</td>\n",
       "      <td>90000</td>\n",
       "    </tr>\n",
       "    <tr>\n",
       "      <th>2</th>\n",
       "      <td>IT</td>\n",
       "      <td>Max</td>\n",
       "      <td>90000</td>\n",
       "    </tr>\n",
       "    <tr>\n",
       "      <th>3</th>\n",
       "      <td>Sales</td>\n",
       "      <td>Henry</td>\n",
       "      <td>80000</td>\n",
       "    </tr>\n",
       "  </tbody>\n",
       "</table>\n",
       "</div>"
      ]
     },
     "execution_count": 169,
     "metadata": {},
     "output_type": "execute_result"
    }
   ],
   "execution_count": 169
  }
 ],
 "metadata": {
  "kernelspec": {
   "display_name": "Python 3",
   "language": "python",
   "name": "python3"
  },
  "language_info": {
   "codemirror_mode": {
    "name": "ipython",
    "version": 2
   },
   "file_extension": ".py",
   "mimetype": "text/x-python",
   "name": "python",
   "nbconvert_exporter": "python",
   "pygments_lexer": "ipython2",
   "version": "2.7.6"
  }
 },
 "nbformat": 4,
 "nbformat_minor": 5
}
