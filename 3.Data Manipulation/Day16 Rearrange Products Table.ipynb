{
 "cells": [
  {
   "metadata": {},
   "cell_type": "markdown",
   "source": [
    "# 📍 Problem Title: Rearrange Products Table\n",
    "\n",
    "🔗 [LeetCode Problem 1795 – Rearrange Products Table](https://leetcode.com/problems/rearrange-products-table/description/?envType=study-plan-v2&envId=30-days-of-pandas)\n",
    "\n",
    "---\n",
    "\n",
    "## 📝 Problem Description\n",
    "We are given a table `Products` with the following schema:\n",
    "\n",
    "| Column     | Type |\n",
    "|------------|------|\n",
    "| product_id | int  |\n",
    "| store1     | int  |\n",
    "| store2     | int  |\n",
    "| store3     | int  |\n",
    "\n",
    "Each row represents a product and the prices in different stores.\n",
    "Some values can be `NULL` if the product is not available in that store.\n",
    "\n",
    "Write a solution to **rearrange the table** so that each row contains:\n",
    "- `product_id`\n",
    "- `store`\n",
    "- `price`\n",
    "\n",
    "Ignore rows where the price is `NULL`.\n",
    "\n",
    "---\n",
    "\n",
    "## 🧾 Example\n",
    "\n",
    "**Input:**\n",
    "\n",
    "| product_id | store1 | store2 | store3 |\n",
    "|------------|--------|--------|--------|\n",
    "| 0          | 95     | 100    | 105    |\n",
    "| 1          | 70     | NULL   | 80     |\n",
    "\n",
    "**Output:**\n",
    "\n",
    "| product_id | store  | price |\n",
    "|------------|--------|-------|\n",
    "| 0          | store1 | 95    |\n",
    "| 0          | store2 | 100   |\n",
    "| 0          | store3 | 105   |\n",
    "| 1          | store1 | 70    |\n",
    "| 1          | store3 | 80    |\n",
    "\n",
    "---\n",
    "\n",
    "## 🧠 Key Concepts\n",
    "- **Wide to Long transformation:**\n",
    "  - Original table: one row per product with many store columns.\n",
    "  - Desired table: one row per product per store.\n",
    "- **Ignore missing values:** drop rows where price is `NULL`.\n",
    "\n",
    "---\n",
    "\n",
    "## 🔎 Explanation of `pd.melt`\n",
    "The function **`pandas.melt()`** reshapes a DataFrame from **wide format** to **long format**.\n",
    "\n",
    "- **`id_vars`** → columns to keep as identifiers (e.g. `product_id`).\n",
    "- **`var_name`** → new column name for the former column headers (e.g. `store`).\n",
    "- **`value_name`** → new column name for the values (e.g. `price`).\n",
    "\n",
    "👉 In this problem:\n",
    "```python\n",
    "pd.melt(products, id_vars=\"product_id\", var_name=\"store\", value_name=\"price\")"
   ],
   "id": "b945adc4e6015ca9"
  },
  {
   "cell_type": "code",
   "id": "initial_id",
   "metadata": {
    "collapsed": true,
    "ExecuteTime": {
     "end_time": "2025-08-29T03:41:29.770850Z",
     "start_time": "2025-08-29T03:41:29.767269Z"
    }
   },
   "source": "import pandas as pd",
   "outputs": [],
   "execution_count": 37
  },
  {
   "metadata": {
    "ExecuteTime": {
     "end_time": "2025-08-29T03:41:29.789936Z",
     "start_time": "2025-08-29T03:41:29.786940Z"
    }
   },
   "cell_type": "code",
   "source": [
    "product_data = [\n",
    "    [0, 95, 100, 105],\n",
    "    [1, 70, None, 80 ]\n",
    "]\n",
    "\n",
    "products = pd.DataFrame(data = product_data , columns = ['product_id', 'store1', 'store2', 'store3'])"
   ],
   "id": "136651e3bf421066",
   "outputs": [],
   "execution_count": 38
  },
  {
   "metadata": {
    "ExecuteTime": {
     "end_time": "2025-08-29T03:41:29.801176Z",
     "start_time": "2025-08-29T03:41:29.796544Z"
    }
   },
   "cell_type": "code",
   "source": "products",
   "id": "f6641079256323f3",
   "outputs": [
    {
     "data": {
      "text/plain": [
       "   product_id  store1  store2  store3\n",
       "0           0      95   100.0     105\n",
       "1           1      70     NaN      80"
      ],
      "text/html": [
       "<div>\n",
       "<style scoped>\n",
       "    .dataframe tbody tr th:only-of-type {\n",
       "        vertical-align: middle;\n",
       "    }\n",
       "\n",
       "    .dataframe tbody tr th {\n",
       "        vertical-align: top;\n",
       "    }\n",
       "\n",
       "    .dataframe thead th {\n",
       "        text-align: right;\n",
       "    }\n",
       "</style>\n",
       "<table border=\"1\" class=\"dataframe\">\n",
       "  <thead>\n",
       "    <tr style=\"text-align: right;\">\n",
       "      <th></th>\n",
       "      <th>product_id</th>\n",
       "      <th>store1</th>\n",
       "      <th>store2</th>\n",
       "      <th>store3</th>\n",
       "    </tr>\n",
       "  </thead>\n",
       "  <tbody>\n",
       "    <tr>\n",
       "      <th>0</th>\n",
       "      <td>0</td>\n",
       "      <td>95</td>\n",
       "      <td>100.0</td>\n",
       "      <td>105</td>\n",
       "    </tr>\n",
       "    <tr>\n",
       "      <th>1</th>\n",
       "      <td>1</td>\n",
       "      <td>70</td>\n",
       "      <td>NaN</td>\n",
       "      <td>80</td>\n",
       "    </tr>\n",
       "  </tbody>\n",
       "</table>\n",
       "</div>"
      ]
     },
     "execution_count": 39,
     "metadata": {},
     "output_type": "execute_result"
    }
   ],
   "execution_count": 39
  },
  {
   "metadata": {
    "ExecuteTime": {
     "end_time": "2025-08-29T03:41:29.831553Z",
     "start_time": "2025-08-29T03:41:29.829578Z"
    }
   },
   "cell_type": "code",
   "source": [
    "def rearrange_products_table(products: pd.DataFrame) -> pd.DataFrame:\n",
    "\n",
    "    return pd.melt(products, id_vars = 'product_id' , var_name = 'store',  value_name = 'price').dropna()"
   ],
   "id": "eeb51f1f676f1c1a",
   "outputs": [],
   "execution_count": 40
  },
  {
   "metadata": {
    "ExecuteTime": {
     "end_time": "2025-08-29T03:41:29.862888Z",
     "start_time": "2025-08-29T03:41:29.858274Z"
    }
   },
   "cell_type": "code",
   "source": "rearrange_products_table(products)",
   "id": "41d068f8cee1efcb",
   "outputs": [
    {
     "data": {
      "text/plain": [
       "   product_id   store  price\n",
       "0           0  store1   95.0\n",
       "1           1  store1   70.0\n",
       "2           0  store2  100.0\n",
       "4           0  store3  105.0\n",
       "5           1  store3   80.0"
      ],
      "text/html": [
       "<div>\n",
       "<style scoped>\n",
       "    .dataframe tbody tr th:only-of-type {\n",
       "        vertical-align: middle;\n",
       "    }\n",
       "\n",
       "    .dataframe tbody tr th {\n",
       "        vertical-align: top;\n",
       "    }\n",
       "\n",
       "    .dataframe thead th {\n",
       "        text-align: right;\n",
       "    }\n",
       "</style>\n",
       "<table border=\"1\" class=\"dataframe\">\n",
       "  <thead>\n",
       "    <tr style=\"text-align: right;\">\n",
       "      <th></th>\n",
       "      <th>product_id</th>\n",
       "      <th>store</th>\n",
       "      <th>price</th>\n",
       "    </tr>\n",
       "  </thead>\n",
       "  <tbody>\n",
       "    <tr>\n",
       "      <th>0</th>\n",
       "      <td>0</td>\n",
       "      <td>store1</td>\n",
       "      <td>95.0</td>\n",
       "    </tr>\n",
       "    <tr>\n",
       "      <th>1</th>\n",
       "      <td>1</td>\n",
       "      <td>store1</td>\n",
       "      <td>70.0</td>\n",
       "    </tr>\n",
       "    <tr>\n",
       "      <th>2</th>\n",
       "      <td>0</td>\n",
       "      <td>store2</td>\n",
       "      <td>100.0</td>\n",
       "    </tr>\n",
       "    <tr>\n",
       "      <th>4</th>\n",
       "      <td>0</td>\n",
       "      <td>store3</td>\n",
       "      <td>105.0</td>\n",
       "    </tr>\n",
       "    <tr>\n",
       "      <th>5</th>\n",
       "      <td>1</td>\n",
       "      <td>store3</td>\n",
       "      <td>80.0</td>\n",
       "    </tr>\n",
       "  </tbody>\n",
       "</table>\n",
       "</div>"
      ]
     },
     "execution_count": 41,
     "metadata": {},
     "output_type": "execute_result"
    }
   ],
   "execution_count": 41
  }
 ],
 "metadata": {
  "kernelspec": {
   "display_name": "Python 3",
   "language": "python",
   "name": "python3"
  },
  "language_info": {
   "codemirror_mode": {
    "name": "ipython",
    "version": 2
   },
   "file_extension": ".py",
   "mimetype": "text/x-python",
   "name": "python",
   "nbconvert_exporter": "python",
   "pygments_lexer": "ipython2",
   "version": "2.7.6"
  }
 },
 "nbformat": 4,
 "nbformat_minor": 5
}
