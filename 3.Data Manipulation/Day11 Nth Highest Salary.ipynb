{
 "cells": [
  {
   "metadata": {},
   "cell_type": "markdown",
   "source": [
    "# Problem Title: – Nth Highest Salary\n",
    "\n",
    "📌 **LeetCode Problem:** [177. Nth Highest Salary](https://leetcode.com/problems/nth-highest-salary/description/?envType=study-plan-v2&envId=30-days-of-pandas)\n",
    "\n",
    "---\n",
    "\n",
    "### Problem Statement\n",
    "We are given a table `Employee` with the following schema:\n",
    "\n",
    "| Column | Type    |\n",
    "|--------|---------|\n",
    "| id     | int     |\n",
    "| salary | int     |\n",
    "\n",
    "- `id` is the primary key.\n",
    "- Each row contains the salary of an employee.\n",
    "- Write a solution to **find the N-th highest distinct salary** from the table.\n",
    "- If there are fewer than N distinct salaries, return `null`.\n",
    "\n",
    "---\n",
    "\n",
    "### Example\n",
    "\n",
    "**Input:**\n",
    "\n",
    "| id | salary |\n",
    "|----|--------|\n",
    "| 1  | 100    |\n",
    "| 2  | 200    |\n",
    "| 3  | 300    |\n",
    "| 4  | 300    |\n",
    "| 5  | 200    |\n",
    "\n",
    "**Output (N = 2):**\n",
    "\n",
    "| getNthHighestSalary(2) |\n",
    "|-------------------------|\n",
    "| 200                     |\n",
    "\n",
    "---\n",
    "\n",
    "### My Approach\n",
    "\n",
    "1. **Remove duplicates** from the salary column using `drop_duplicates`.\n",
    "2. **Sort** the unique salaries in descending order.\n",
    "3. **Check** if `n` is valid (not greater than number of distinct salaries, not less than 1).\n",
    "4. **Return** the salary at the `(n-1)` index (because of zero-based indexing).\n",
    "5. If `n` is invalid, return `null`.\n",
    "\n",
    "---\n",
    "\n",
    "✅ **Key Pandas Concepts Used**\n",
    "- `drop_duplicates(subset=[\"salary\"])`\n",
    "- `sort_values(by=\"salary\", ascending=False)`\n",
    "- `iloc[]` for position-based indexing\n",
    "- Constructing a new DataFrame for final result\n",
    "\n",
    "---\n",
    "\n",
    "This approach guarantees the correct **nth highest distinct salary** with edge case handling.\n",
    "\n"
   ],
   "id": "1556b97353a1dbab"
  },
  {
   "cell_type": "code",
   "id": "initial_id",
   "metadata": {
    "collapsed": true,
    "ExecuteTime": {
     "end_time": "2025-08-20T23:18:05.132958Z",
     "start_time": "2025-08-20T23:18:05.127993Z"
    }
   },
   "source": [
    "import pandas as pd\n",
    "\n",
    "data = [\n",
    "    [1 , 100],\n",
    "    [2, 200],\n",
    "    [3, 300],\n",
    "    [4,300],\n",
    "    [5,200]\n",
    "]\n",
    "\n",
    "employees = pd.DataFrame(data = data , columns = [\"id\" , \"salary\"])"
   ],
   "outputs": [],
   "execution_count": 138
  },
  {
   "metadata": {
    "ExecuteTime": {
     "end_time": "2025-08-20T23:18:05.160976Z",
     "start_time": "2025-08-20T23:18:05.156410Z"
    }
   },
   "cell_type": "code",
   "source": [
    "# My approach\n",
    "# 1. Drop any duplicate salary values.\n",
    "# 2 .Sort the unique values\n",
    "# 3 .check if the n is in the range.\n",
    "# 4 .take the value by .loc[n-1]\n",
    "\n",
    "def nth_highest_salary(employee: pd.DataFrame , n : int) -> pd.DataFrame:\n",
    "\n",
    "\n",
    "    employee = employee.drop_duplicates(subset = [\"salary\"]) # Step 1. drop duplicates on the salary column.\n",
    "\n",
    "    # Since our dataset contains only unique values we can sort right now\n",
    "    employee = employee.sort_values(by = \"salary\" , ascending=False)\n",
    "\n",
    "    # Check if the n is in the range.\n",
    "    if n > len(employee) or n <= 0:\n",
    "        return pd.DataFrame({f\"getNthHighestSalary({n})\" : [None]})\n",
    "\n",
    "    # return the nth largest 'distinct' salary.\n",
    "    return pd.DataFrame({f\"getNthHighestSalary({n})\" : [employee.iloc[n-1][\"salary\"]]})"
   ],
   "id": "7ad7c2be8ef47d8c",
   "outputs": [],
   "execution_count": 139
  },
  {
   "metadata": {
    "ExecuteTime": {
     "end_time": "2025-08-20T23:18:05.173483Z",
     "start_time": "2025-08-20T23:18:05.168252Z"
    }
   },
   "cell_type": "code",
   "source": "nth_highest_salary(employees , 2)",
   "id": "ecdced8d2d8e275d",
   "outputs": [
    {
     "data": {
      "text/plain": [
       "   getNthHighestSalary(2)\n",
       "0                     200"
      ],
      "text/html": [
       "<div>\n",
       "<style scoped>\n",
       "    .dataframe tbody tr th:only-of-type {\n",
       "        vertical-align: middle;\n",
       "    }\n",
       "\n",
       "    .dataframe tbody tr th {\n",
       "        vertical-align: top;\n",
       "    }\n",
       "\n",
       "    .dataframe thead th {\n",
       "        text-align: right;\n",
       "    }\n",
       "</style>\n",
       "<table border=\"1\" class=\"dataframe\">\n",
       "  <thead>\n",
       "    <tr style=\"text-align: right;\">\n",
       "      <th></th>\n",
       "      <th>getNthHighestSalary(2)</th>\n",
       "    </tr>\n",
       "  </thead>\n",
       "  <tbody>\n",
       "    <tr>\n",
       "      <th>0</th>\n",
       "      <td>200</td>\n",
       "    </tr>\n",
       "  </tbody>\n",
       "</table>\n",
       "</div>"
      ]
     },
     "execution_count": 140,
     "metadata": {},
     "output_type": "execute_result"
    }
   ],
   "execution_count": 140
  }
 ],
 "metadata": {
  "kernelspec": {
   "display_name": "Python 3",
   "language": "python",
   "name": "python3"
  },
  "language_info": {
   "codemirror_mode": {
    "name": "ipython",
    "version": 2
   },
   "file_extension": ".py",
   "mimetype": "text/x-python",
   "name": "python",
   "nbconvert_exporter": "python",
   "pygments_lexer": "ipython2",
   "version": "2.7.6"
  }
 },
 "nbformat": 4,
 "nbformat_minor": 5
}
