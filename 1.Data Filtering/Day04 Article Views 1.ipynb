{
 "cells": [
  {
   "metadata": {},
   "cell_type": "markdown",
   "source": [
    "# 📍 Problem Title: Article Views I\n",
    "\n",
    "🔗 [LeetCode Problem 1148 – Article Views I](https://leetcode.com/problems/article-views-i/)\n",
    "\n",
    "## 🗂️ Category\n",
    "- Topic: **Self-joins / Filtering own views**\n",
    "- Difficulty: ⭐ Easy\n",
    "\n",
    "## 📝 Problem Description\n",
    "\n",
    "You're given a table `Views` with the following columns:\n",
    "- `article_id` (int)\n",
    "- `author_id` (int)\n",
    "- `viewer_id` (int)\n",
    "- `view_date` (date)\n",
    "\n",
    "Write a query to return the IDs of authors who have **viewed their own articles**.\n",
    "\n",
    "### ✅ Constraints:\n",
    "- Return only the **distinct `author_id` values** where the `viewer_id` equals the `author_id`.\n",
    "- Sort the results by `author_id` in ascending order.\n",
    "\n",
    "## 🧾 Example Input\n",
    "\n",
    "| article_id | author_id | viewer_id | view_date   |\n",
    "|------------|-----------|-----------|-------------|\n",
    "| 1          | 3         | 5         | 2019-08-01  |\n",
    "| 1          | 3         | 6         | 2019-08-02  |\n",
    "| 2          | 7         | 7         | 2019-08-01  |\n",
    "| 2          | 7         | 6         | 2019-08-02  |\n",
    "| 4          | 7         | 1         | 2019-07-22  |\n",
    "| 3          | 4         | 4         | 2019-07-21  |\n",
    "| 3          | 4         | 4         | 2019-07-21  |\n",
    "\n",
    "## ✅ Expected Output\n",
    "\n",
    "| id |\n",
    "|----|\n",
    "| 4  |\n",
    "| 7  |\n",
    "\n",
    "## 🧠 Key Concepts\n",
    "- Filtering where `author_id == viewer_id`\n",
    "- Removing duplicates with `drop_duplicates()`\n",
    "- Renaming columns for final output format\n",
    "- Sorting results\n",
    "\n",
    "## 🐼 Solution (Pandas)\n",
    "\n",
    "```python\n",
    "def article_views(views: pd.DataFrame) -> pd.DataFrame:\n",
    "    # Filter rows where author_id equals viewer_id and select only author_id column\n",
    "    views = views[views[\"viewer_id\"] == views[\"author_id\"]][[\"author_id\"]]\n",
    "\n",
    "    # Drop duplicates and rename for output format\n",
    "    views = views.drop_duplicates()\n",
    "    return views.sort_values(by=\"author_id\").rename(columns={\"author_id\": \"id\"})"
   ],
   "id": "593f5719d5143f47"
  },
  {
   "cell_type": "code",
   "id": "initial_id",
   "metadata": {
    "collapsed": true,
    "ExecuteTime": {
     "end_time": "2025-08-07T18:02:36.706688Z",
     "start_time": "2025-08-07T18:02:36.451992Z"
    }
   },
   "source": "import pandas as pd",
   "outputs": [],
   "execution_count": 1
  },
  {
   "metadata": {
    "ExecuteTime": {
     "end_time": "2025-08-07T18:02:46.532402Z",
     "start_time": "2025-08-07T18:02:46.528758Z"
    }
   },
   "cell_type": "code",
   "source": [
    "data = [\n",
    "    [1, 3, 5, \"2019-08-01\"],\n",
    "    [1, 3, 6, \"2019-08-02\"],\n",
    "    [2, 7, 7, \"2019-08-01\"],\n",
    "    [2, 7, 6, \"2019-08-02\"],\n",
    "    [4, 7, 1, \"2019-07-22\"],\n",
    "    [3, 4, 4, \"2019-07-21\"],\n",
    "    [3, 4, 4, \"2019-07-21\"],\n",
    "]\n",
    "\n",
    "columns = [\"article_id\", \"author_id\", \"viewer_id\", \"view_date\"]\n",
    "\n",
    "views = pd.DataFrame(data, columns=columns)"
   ],
   "id": "44bf260f507b62ae",
   "outputs": [],
   "execution_count": 2
  },
  {
   "metadata": {
    "ExecuteTime": {
     "end_time": "2025-08-07T18:17:19.478812Z",
     "start_time": "2025-08-07T18:17:19.475543Z"
    }
   },
   "cell_type": "code",
   "source": [
    "def article_views(views : pd.DataFrame) -> pd.DataFrame:\n",
    "\n",
    "    #Filter rows where author_id equals to viewer_id and only took author_id column.\n",
    "    views = views[views[\"viewer_id\"] == views[\"author_id\"]][[\"author_id\"]]\n",
    "\n",
    "    views = views.drop_duplicates()\n",
    "    return views.sort_values(by=\"author_id\").rename(columns= {\"author_id\" : \"id\"})\n",
    "\n",
    "\n",
    "\n"
   ],
   "id": "af618101f32f218f",
   "outputs": [],
   "execution_count": 68
  },
  {
   "metadata": {
    "ExecuteTime": {
     "end_time": "2025-08-07T18:17:20.128646Z",
     "start_time": "2025-08-07T18:17:20.120164Z"
    }
   },
   "cell_type": "code",
   "source": "article_views(views)",
   "id": "b8472e861bfe9d1c",
   "outputs": [
    {
     "data": {
      "text/plain": [
       "   id\n",
       "5   4\n",
       "2   7"
      ],
      "text/html": [
       "<div>\n",
       "<style scoped>\n",
       "    .dataframe tbody tr th:only-of-type {\n",
       "        vertical-align: middle;\n",
       "    }\n",
       "\n",
       "    .dataframe tbody tr th {\n",
       "        vertical-align: top;\n",
       "    }\n",
       "\n",
       "    .dataframe thead th {\n",
       "        text-align: right;\n",
       "    }\n",
       "</style>\n",
       "<table border=\"1\" class=\"dataframe\">\n",
       "  <thead>\n",
       "    <tr style=\"text-align: right;\">\n",
       "      <th></th>\n",
       "      <th>id</th>\n",
       "    </tr>\n",
       "  </thead>\n",
       "  <tbody>\n",
       "    <tr>\n",
       "      <th>5</th>\n",
       "      <td>4</td>\n",
       "    </tr>\n",
       "    <tr>\n",
       "      <th>2</th>\n",
       "      <td>7</td>\n",
       "    </tr>\n",
       "  </tbody>\n",
       "</table>\n",
       "</div>"
      ]
     },
     "execution_count": 69,
     "metadata": {},
     "output_type": "execute_result"
    }
   ],
   "execution_count": 69
  },
  {
   "metadata": {},
   "cell_type": "code",
   "outputs": [],
   "execution_count": null,
   "source": "",
   "id": "9de572a20582b803"
  }
 ],
 "metadata": {
  "kernelspec": {
   "display_name": "Python 3",
   "language": "python",
   "name": "python3"
  },
  "language_info": {
   "codemirror_mode": {
    "name": "ipython",
    "version": 2
   },
   "file_extension": ".py",
   "mimetype": "text/x-python",
   "name": "python",
   "nbconvert_exporter": "python",
   "pygments_lexer": "ipython2",
   "version": "2.7.6"
  }
 },
 "nbformat": 4,
 "nbformat_minor": 5
}
