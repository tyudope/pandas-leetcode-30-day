{
 "cells": [
  {
   "metadata": {},
   "cell_type": "markdown",
   "source": [
    "# 📍 Problem Title: Fix Names in a Table\n",
    "\n",
    "🔗 [LeetCode Problem 1667 – Fix Names in a Table](https://leetcode.com/problems/fix-names-in-a-table/)\n",
    "\n",
    "## 🗂️ Category\n",
    "- Topic: **String Formatting**\n",
    "- Difficulty: ⭐ Easy\n",
    "\n",
    "## 📝 Problem Description\n",
    "You are given a table `Users` with the following columns:\n",
    "- `user_id` (int)\n",
    "- `name` (string)\n",
    "\n",
    "Write a query to fix the names so that:\n",
    "- The first letter is **uppercase**.\n",
    "- The rest of the letters are **lowercase**.\n",
    "\n",
    "Return the result table ordered by `user_id`.\n",
    "\n",
    "## 🧾 Example Input\n",
    "\n",
    "| user_id | name     |\n",
    "|---------|----------|\n",
    "| 1       | aLice    |\n",
    "| 2       | bOB      |\n",
    "\n",
    "## ✅ Expected Output\n",
    "\n",
    "| user_id | name     |\n",
    "|---------|----------|\n",
    "| 1       | Alice    |\n",
    "| 2       | Bob      |\n",
    "\n",
    "## 🧠 Key Concepts\n",
    "- String transformation: first letter uppercase, rest lowercase.\n",
    "- Sorting by `user_id`.\n",
    "- Vectorized string operations or apply functions.\n",
    "\n"
   ],
   "id": "42478b5a5146fd7d"
  },
  {
   "cell_type": "code",
   "id": "initial_id",
   "metadata": {
    "collapsed": true,
    "ExecuteTime": {
     "end_time": "2025-08-13T18:36:13.142807Z",
     "start_time": "2025-08-13T18:36:13.136453Z"
    }
   },
   "source": [
    "import pandas as pd\n",
    "import numpy as np\n",
    "# Creating sample database.\n",
    "data = [[1, 'aLice'], [2, 'bOB']]\n",
    "users = pd.DataFrame(data, columns=['user_id', 'name']).astype({'user_id':'Int64', 'name':'object'})"
   ],
   "outputs": [],
   "execution_count": 16
  },
  {
   "metadata": {
    "ExecuteTime": {
     "end_time": "2025-08-13T18:37:15.547479Z",
     "start_time": "2025-08-13T18:37:15.544890Z"
    }
   },
   "cell_type": "code",
   "source": [
    "# Write a solution to fix the names so that only the first character is uppercase and the rest are lowercase.\n",
    "# Return the result table ordered by user_id.\n",
    "# The result format is in the following example.\n",
    "def fix_names(users: pd.DataFrame) -> pd.DataFrame:\n",
    "    users[\"name\"] = users[\"name\"].str.capitalize()\n",
    "    return users.sort_values(\"user_id\")"
   ],
   "id": "b054cbb8c9f541a2",
   "outputs": [],
   "execution_count": 19
  },
  {
   "metadata": {
    "ExecuteTime": {
     "end_time": "2025-08-13T18:37:16.346601Z",
     "start_time": "2025-08-13T18:37:16.340970Z"
    }
   },
   "cell_type": "code",
   "source": "fix_names(users)",
   "id": "97cc4046d674106f",
   "outputs": [
    {
     "data": {
      "text/plain": [
       "   user_id   name\n",
       "0        1  Alice\n",
       "1        2    Bob"
      ],
      "text/html": [
       "<div>\n",
       "<style scoped>\n",
       "    .dataframe tbody tr th:only-of-type {\n",
       "        vertical-align: middle;\n",
       "    }\n",
       "\n",
       "    .dataframe tbody tr th {\n",
       "        vertical-align: top;\n",
       "    }\n",
       "\n",
       "    .dataframe thead th {\n",
       "        text-align: right;\n",
       "    }\n",
       "</style>\n",
       "<table border=\"1\" class=\"dataframe\">\n",
       "  <thead>\n",
       "    <tr style=\"text-align: right;\">\n",
       "      <th></th>\n",
       "      <th>user_id</th>\n",
       "      <th>name</th>\n",
       "    </tr>\n",
       "  </thead>\n",
       "  <tbody>\n",
       "    <tr>\n",
       "      <th>0</th>\n",
       "      <td>1</td>\n",
       "      <td>Alice</td>\n",
       "    </tr>\n",
       "    <tr>\n",
       "      <th>1</th>\n",
       "      <td>2</td>\n",
       "      <td>Bob</td>\n",
       "    </tr>\n",
       "  </tbody>\n",
       "</table>\n",
       "</div>"
      ]
     },
     "execution_count": 20,
     "metadata": {},
     "output_type": "execute_result"
    }
   ],
   "execution_count": 20
  },
  {
   "metadata": {},
   "cell_type": "code",
   "outputs": [],
   "execution_count": null,
   "source": "",
   "id": "c931866948c9b5e2"
  }
 ],
 "metadata": {
  "kernelspec": {
   "display_name": "Python 3",
   "language": "python",
   "name": "python3"
  },
  "language_info": {
   "codemirror_mode": {
    "name": "ipython",
    "version": 2
   },
   "file_extension": ".py",
   "mimetype": "text/x-python",
   "name": "python",
   "nbconvert_exporter": "python",
   "pygments_lexer": "ipython2",
   "version": "2.7.6"
  }
 },
 "nbformat": 4,
 "nbformat_minor": 5
}
