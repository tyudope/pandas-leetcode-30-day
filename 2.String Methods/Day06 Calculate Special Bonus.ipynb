{
 "cells": [
  {
   "metadata": {},
   "cell_type": "markdown",
   "source": [
    "# 📍 Problem Title: Calculating Special Bonus\n",
    "\n",
    "🔗 [LeetCode Problem 1873 – Calculate Special Bonus](https://leetcode.com/problems/calculate-special-bonus/)\n",
    "\n",
    "## 🗂️ Category\n",
    "- Topic: **Conditional Logic**, **Column Assignment**\n",
    "- Difficulty: ⭐ Easy\n",
    "\n",
    "## 📝 Problem Description\n",
    "You are given a table `Employees` with the following columns:\n",
    "- `employee_id` (int)\n",
    "- `name` (string)\n",
    "- `salary` (int)\n",
    "\n",
    "Write a query to calculate the bonus for each employee based on the following rules:\n",
    "1. The bonus is **100% of their salary** if:\n",
    "   - Their `employee_id` is **odd**, and\n",
    "   - Their `name` does **not** start with the character `\"M\"`.\n",
    "2. The bonus is **0** otherwise.\n",
    "\n",
    "Return the result table with:\n",
    "- `employee_id`\n",
    "- `bonus`\n",
    "\n",
    "The result should be **ordered by `employee_id`** in ascending order.\n",
    "\n",
    "## 🧾 Example Input\n",
    "\n",
    "| employee_id | name   | salary |\n",
    "|-------------|--------|--------|\n",
    "| 2           | Meir   | 3000   |\n",
    "| 3           | Michael| 3800   |\n",
    "| 7           | Addilyn| 7400   |\n",
    "| 8           | Juan   | 6100   |\n",
    "| 9           | Kannon | 7700   |\n",
    "\n",
    "## ✅ Expected Output\n",
    "\n",
    "| employee_id | bonus |\n",
    "|-------------|-------|\n",
    "| 2           | 0     |\n",
    "| 3           | 0     |\n",
    "| 7           | 7400  |\n",
    "| 8           | 0     |\n",
    "| 9           | 7700  |\n",
    "\n",
    "## 🧠 Key Concepts\n",
    "- Vectorized filtering using `.loc`\n",
    "- String filtering with `.str.startswith()`\n",
    "- Conditional column assignment\n",
    "- Sorting DataFrames"
   ],
   "id": "f74a849e7d083738"
  },
  {
   "cell_type": "code",
   "id": "initial_id",
   "metadata": {
    "collapsed": true,
    "ExecuteTime": {
     "end_time": "2025-08-12T23:31:00.921479Z",
     "start_time": "2025-08-12T23:31:00.917973Z"
    }
   },
   "source": "import pandas as pd\n",
   "outputs": [],
   "execution_count": 94
  },
  {
   "metadata": {
    "ExecuteTime": {
     "end_time": "2025-08-12T23:31:00.949402Z",
     "start_time": "2025-08-12T23:31:00.942469Z"
    }
   },
   "cell_type": "code",
   "source": [
    "data = [\n",
    "    [2 , \"Meir\" , 3000],\n",
    "    [3 , \"Michael\" , 3800],\n",
    "    [7 , \"Addilyn\" , 7400],\n",
    "    [8 , \"Juan\" ,6100],\n",
    "    [9 , \"Kannon\"  , 770]\n",
    "]\n",
    "df = pd.DataFrame(data , columns = [\"employee_id\"  , \"name\" , \"salary\"])\n",
    "df"
   ],
   "id": "f8b4344fb2491ecc",
   "outputs": [
    {
     "data": {
      "text/plain": [
       "   employee_id     name  salary\n",
       "0            2     Meir    3000\n",
       "1            3  Michael    3800\n",
       "2            7  Addilyn    7400\n",
       "3            8     Juan    6100\n",
       "4            9   Kannon     770"
      ],
      "text/html": [
       "<div>\n",
       "<style scoped>\n",
       "    .dataframe tbody tr th:only-of-type {\n",
       "        vertical-align: middle;\n",
       "    }\n",
       "\n",
       "    .dataframe tbody tr th {\n",
       "        vertical-align: top;\n",
       "    }\n",
       "\n",
       "    .dataframe thead th {\n",
       "        text-align: right;\n",
       "    }\n",
       "</style>\n",
       "<table border=\"1\" class=\"dataframe\">\n",
       "  <thead>\n",
       "    <tr style=\"text-align: right;\">\n",
       "      <th></th>\n",
       "      <th>employee_id</th>\n",
       "      <th>name</th>\n",
       "      <th>salary</th>\n",
       "    </tr>\n",
       "  </thead>\n",
       "  <tbody>\n",
       "    <tr>\n",
       "      <th>0</th>\n",
       "      <td>2</td>\n",
       "      <td>Meir</td>\n",
       "      <td>3000</td>\n",
       "    </tr>\n",
       "    <tr>\n",
       "      <th>1</th>\n",
       "      <td>3</td>\n",
       "      <td>Michael</td>\n",
       "      <td>3800</td>\n",
       "    </tr>\n",
       "    <tr>\n",
       "      <th>2</th>\n",
       "      <td>7</td>\n",
       "      <td>Addilyn</td>\n",
       "      <td>7400</td>\n",
       "    </tr>\n",
       "    <tr>\n",
       "      <th>3</th>\n",
       "      <td>8</td>\n",
       "      <td>Juan</td>\n",
       "      <td>6100</td>\n",
       "    </tr>\n",
       "    <tr>\n",
       "      <th>4</th>\n",
       "      <td>9</td>\n",
       "      <td>Kannon</td>\n",
       "      <td>770</td>\n",
       "    </tr>\n",
       "  </tbody>\n",
       "</table>\n",
       "</div>"
      ]
     },
     "execution_count": 95,
     "metadata": {},
     "output_type": "execute_result"
    }
   ],
   "execution_count": 95
  },
  {
   "metadata": {
    "ExecuteTime": {
     "end_time": "2025-08-12T23:31:00.984348Z",
     "start_time": "2025-08-12T23:31:00.981444Z"
    }
   },
   "cell_type": "code",
   "source": [
    "def calculate_special_bonus(employees : pd.DataFrame) -> pd.DataFrame:\n",
    "    # Default bonus: 0  for everyone\n",
    "    employees[\"bonus\"] = 0\n",
    "    # This ensures every employee has a bonus value, even if they don't meet the criteria.\n",
    "\n",
    "    # Updating only certain rows with .loc\n",
    "    # What .loc does ?\n",
    "    # .loc [rows, columns] is label-based selection in pandas.\n",
    "    # It allows you to choose specific rows (based on condition) and specific columns to update or read.\n",
    "    employees.loc[(employees[\"employee_id\"] % 2 != 0 ) & ( ~ employees[\"name\"].str.startswith('M')) , 'bonus'] = employees[\"salary\"]\n",
    "    # We are updating 'bonus' column -> .loc[rows (rows which meet the criteria) , columns ('bonus') in this case.)\n",
    "    # For rows meeting the condition, set 'bonus' equal to their 'salary'.\n",
    "\n",
    "\n",
    "    # Return required columns sorted by employee_id\n",
    "    return employees[[\"employee_id\" , \"bonus\"]].sort_values(\"employee_id\")\n"
   ],
   "id": "a62a4ae9192dc0f6",
   "outputs": [],
   "execution_count": 96
  },
  {
   "metadata": {
    "ExecuteTime": {
     "end_time": "2025-08-12T23:31:01.019518Z",
     "start_time": "2025-08-12T23:31:01.014654Z"
    }
   },
   "cell_type": "code",
   "source": [
    "result = calculate_special_bonus(df)\n",
    "result"
   ],
   "id": "3ce3564f39a1dd46",
   "outputs": [
    {
     "data": {
      "text/plain": [
       "   employee_id  bonus\n",
       "0            2      0\n",
       "1            3      0\n",
       "2            7   7400\n",
       "3            8      0\n",
       "4            9    770"
      ],
      "text/html": [
       "<div>\n",
       "<style scoped>\n",
       "    .dataframe tbody tr th:only-of-type {\n",
       "        vertical-align: middle;\n",
       "    }\n",
       "\n",
       "    .dataframe tbody tr th {\n",
       "        vertical-align: top;\n",
       "    }\n",
       "\n",
       "    .dataframe thead th {\n",
       "        text-align: right;\n",
       "    }\n",
       "</style>\n",
       "<table border=\"1\" class=\"dataframe\">\n",
       "  <thead>\n",
       "    <tr style=\"text-align: right;\">\n",
       "      <th></th>\n",
       "      <th>employee_id</th>\n",
       "      <th>bonus</th>\n",
       "    </tr>\n",
       "  </thead>\n",
       "  <tbody>\n",
       "    <tr>\n",
       "      <th>0</th>\n",
       "      <td>2</td>\n",
       "      <td>0</td>\n",
       "    </tr>\n",
       "    <tr>\n",
       "      <th>1</th>\n",
       "      <td>3</td>\n",
       "      <td>0</td>\n",
       "    </tr>\n",
       "    <tr>\n",
       "      <th>2</th>\n",
       "      <td>7</td>\n",
       "      <td>7400</td>\n",
       "    </tr>\n",
       "    <tr>\n",
       "      <th>3</th>\n",
       "      <td>8</td>\n",
       "      <td>0</td>\n",
       "    </tr>\n",
       "    <tr>\n",
       "      <th>4</th>\n",
       "      <td>9</td>\n",
       "      <td>770</td>\n",
       "    </tr>\n",
       "  </tbody>\n",
       "</table>\n",
       "</div>"
      ]
     },
     "execution_count": 97,
     "metadata": {},
     "output_type": "execute_result"
    }
   ],
   "execution_count": 97
  },
  {
   "metadata": {
    "ExecuteTime": {
     "end_time": "2025-08-12T23:31:01.062396Z",
     "start_time": "2025-08-12T23:31:01.060758Z"
    }
   },
   "cell_type": "code",
   "source": "",
   "id": "5b33727468d06b88",
   "outputs": [],
   "execution_count": null
  }
 ],
 "metadata": {
  "kernelspec": {
   "display_name": "Python 3",
   "language": "python",
   "name": "python3"
  },
  "language_info": {
   "codemirror_mode": {
    "name": "ipython",
    "version": 2
   },
   "file_extension": ".py",
   "mimetype": "text/x-python",
   "name": "python",
   "nbconvert_exporter": "python",
   "pygments_lexer": "ipython2",
   "version": "2.7.6"
  }
 },
 "nbformat": 4,
 "nbformat_minor": 5
}
