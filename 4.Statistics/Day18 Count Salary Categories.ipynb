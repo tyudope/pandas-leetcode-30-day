{
 "cells": [
  {
   "metadata": {},
   "cell_type": "markdown",
   "source": [
    "# PROBLEM TITLE Count Salary Categories.\n",
    "\n",
    "\n",
    "column_name     type\n",
    "\n",
    "account_id      int\n",
    "income          int\n",
    "\n",
    "Write a solution to calculacte the number of bank accounts for each salary category. The salary categories are.\n",
    "\n",
    "'**Low Salary'** : All the salaries strictly less than $20.000\n",
    "\n",
    "**'Average Salary'** : All the salaries in the inclusive range [20.000, 50.000]\n",
    "\n",
    "**'High Salary'** : All the salaries strictly greater than 50.000\n",
    "\n",
    "The result table must contain all three categories. If there are no accounts in a category, return 0.\n",
    "\n",
    "\n",
    "\n",
    "\n",
    "\n",
    "category    accounts_count\n",
    "\n",
    "Low Salary      3\n",
    "Average Salary  1\n",
    "High Salary     0\n",
    "\n"
   ],
   "id": "f57ccfbd9ce402f7"
  },
  {
   "cell_type": "code",
   "id": "initial_id",
   "metadata": {
    "collapsed": true,
    "ExecuteTime": {
     "end_time": "2025-08-31T18:30:31.420711Z",
     "start_time": "2025-08-31T18:30:30.836044Z"
    }
   },
   "source": "import pandas as pd",
   "outputs": [],
   "execution_count": 1
  },
  {
   "metadata": {
    "ExecuteTime": {
     "end_time": "2025-08-31T18:35:32.564715Z",
     "start_time": "2025-08-31T18:35:32.562107Z"
    }
   },
   "cell_type": "code",
   "source": [
    "data = [\n",
    "    [3, 108939],\n",
    "    [2, 12747],\n",
    "    [8, 87709],\n",
    "    [6, 91796],\n",
    "    [7,47500]\n",
    "]\n",
    "\n",
    "accounts = pd.DataFrame(data = data , columns = ['account_id' , 'income'])"
   ],
   "id": "a9a6e60602058196",
   "outputs": [],
   "execution_count": 28
  },
  {
   "metadata": {
    "ExecuteTime": {
     "end_time": "2025-08-31T18:35:32.914948Z",
     "start_time": "2025-08-31T18:35:32.909912Z"
    }
   },
   "cell_type": "code",
   "source": "accounts",
   "id": "471f713c00ed2c87",
   "outputs": [
    {
     "data": {
      "text/plain": [
       "   account_id  income\n",
       "0           3  108939\n",
       "1           2   12747\n",
       "2           8   87709\n",
       "3           6   91796\n",
       "4           7   47500"
      ],
      "text/html": [
       "<div>\n",
       "<style scoped>\n",
       "    .dataframe tbody tr th:only-of-type {\n",
       "        vertical-align: middle;\n",
       "    }\n",
       "\n",
       "    .dataframe tbody tr th {\n",
       "        vertical-align: top;\n",
       "    }\n",
       "\n",
       "    .dataframe thead th {\n",
       "        text-align: right;\n",
       "    }\n",
       "</style>\n",
       "<table border=\"1\" class=\"dataframe\">\n",
       "  <thead>\n",
       "    <tr style=\"text-align: right;\">\n",
       "      <th></th>\n",
       "      <th>account_id</th>\n",
       "      <th>income</th>\n",
       "    </tr>\n",
       "  </thead>\n",
       "  <tbody>\n",
       "    <tr>\n",
       "      <th>0</th>\n",
       "      <td>3</td>\n",
       "      <td>108939</td>\n",
       "    </tr>\n",
       "    <tr>\n",
       "      <th>1</th>\n",
       "      <td>2</td>\n",
       "      <td>12747</td>\n",
       "    </tr>\n",
       "    <tr>\n",
       "      <th>2</th>\n",
       "      <td>8</td>\n",
       "      <td>87709</td>\n",
       "    </tr>\n",
       "    <tr>\n",
       "      <th>3</th>\n",
       "      <td>6</td>\n",
       "      <td>91796</td>\n",
       "    </tr>\n",
       "    <tr>\n",
       "      <th>4</th>\n",
       "      <td>7</td>\n",
       "      <td>47500</td>\n",
       "    </tr>\n",
       "  </tbody>\n",
       "</table>\n",
       "</div>"
      ]
     },
     "execution_count": 29,
     "metadata": {},
     "output_type": "execute_result"
    }
   ],
   "execution_count": 29
  },
  {
   "metadata": {
    "ExecuteTime": {
     "end_time": "2025-08-31T18:36:04.329950Z",
     "start_time": "2025-08-31T18:36:04.324380Z"
    }
   },
   "cell_type": "code",
   "source": "accounts[(accounts['income'] >= 20000) & (accounts['income'] <= 50000)]",
   "id": "3adcb8739f9687bd",
   "outputs": [
    {
     "data": {
      "text/plain": [
       "   account_id  income\n",
       "4           7   47500"
      ],
      "text/html": [
       "<div>\n",
       "<style scoped>\n",
       "    .dataframe tbody tr th:only-of-type {\n",
       "        vertical-align: middle;\n",
       "    }\n",
       "\n",
       "    .dataframe tbody tr th {\n",
       "        vertical-align: top;\n",
       "    }\n",
       "\n",
       "    .dataframe thead th {\n",
       "        text-align: right;\n",
       "    }\n",
       "</style>\n",
       "<table border=\"1\" class=\"dataframe\">\n",
       "  <thead>\n",
       "    <tr style=\"text-align: right;\">\n",
       "      <th></th>\n",
       "      <th>account_id</th>\n",
       "      <th>income</th>\n",
       "    </tr>\n",
       "  </thead>\n",
       "  <tbody>\n",
       "    <tr>\n",
       "      <th>4</th>\n",
       "      <td>7</td>\n",
       "      <td>47500</td>\n",
       "    </tr>\n",
       "  </tbody>\n",
       "</table>\n",
       "</div>"
      ]
     },
     "execution_count": 33,
     "metadata": {},
     "output_type": "execute_result"
    }
   ],
   "execution_count": 33
  },
  {
   "metadata": {
    "ExecuteTime": {
     "end_time": "2025-08-31T18:39:49.029750Z",
     "start_time": "2025-08-31T18:39:49.026377Z"
    }
   },
   "cell_type": "code",
   "source": [
    "def count_salary_categories(accounts : pd.DataFrame) -> pd.DataFrame:\n",
    "\n",
    "    # LOW SALARY CONDITION : STRICTLY LESS THAN 20.000\n",
    "    # AVERAGE SALARY CONDITION : INCLUSIVE RANGE 20.000 TO 50.000\n",
    "    # HIGH SALARY CONDITION : STRICTLY GREATER THAN 50.000\n",
    "    low_salary_count = len(accounts[accounts['income'] < 20000])\n",
    "    average_salary_count = len(accounts[(accounts['income'] >= 20000) & (accounts['income'] <= 50000)])\n",
    "    high_salary_count = len(accounts[accounts['income'] > 50000])\n",
    "\n",
    "\n",
    "    return pd.DataFrame(data = [\n",
    "        ['Low Salary', low_salary_count],\n",
    "        ['Average Salary' , average_salary_count],\n",
    "        ['High Salary' , high_salary_count]\n",
    "    ],columns = ['category', 'accounts_count'])\n"
   ],
   "id": "734eaec4475767bf",
   "outputs": [],
   "execution_count": 35
  },
  {
   "metadata": {
    "ExecuteTime": {
     "end_time": "2025-08-31T18:39:52.898521Z",
     "start_time": "2025-08-31T18:39:52.893311Z"
    }
   },
   "cell_type": "code",
   "source": "count_salary_categories(accounts)",
   "id": "39e4f85b08897e1f",
   "outputs": [
    {
     "data": {
      "text/plain": [
       "         category  accounts_count\n",
       "0      Low Salary               1\n",
       "1  Average Salary               1\n",
       "2     High Salary               3"
      ],
      "text/html": [
       "<div>\n",
       "<style scoped>\n",
       "    .dataframe tbody tr th:only-of-type {\n",
       "        vertical-align: middle;\n",
       "    }\n",
       "\n",
       "    .dataframe tbody tr th {\n",
       "        vertical-align: top;\n",
       "    }\n",
       "\n",
       "    .dataframe thead th {\n",
       "        text-align: right;\n",
       "    }\n",
       "</style>\n",
       "<table border=\"1\" class=\"dataframe\">\n",
       "  <thead>\n",
       "    <tr style=\"text-align: right;\">\n",
       "      <th></th>\n",
       "      <th>category</th>\n",
       "      <th>accounts_count</th>\n",
       "    </tr>\n",
       "  </thead>\n",
       "  <tbody>\n",
       "    <tr>\n",
       "      <th>0</th>\n",
       "      <td>Low Salary</td>\n",
       "      <td>1</td>\n",
       "    </tr>\n",
       "    <tr>\n",
       "      <th>1</th>\n",
       "      <td>Average Salary</td>\n",
       "      <td>1</td>\n",
       "    </tr>\n",
       "    <tr>\n",
       "      <th>2</th>\n",
       "      <td>High Salary</td>\n",
       "      <td>3</td>\n",
       "    </tr>\n",
       "  </tbody>\n",
       "</table>\n",
       "</div>"
      ]
     },
     "execution_count": 36,
     "metadata": {},
     "output_type": "execute_result"
    }
   ],
   "execution_count": 36
  },
  {
   "metadata": {},
   "cell_type": "code",
   "outputs": [],
   "execution_count": null,
   "source": "",
   "id": "afbdbdf4fdac5d85"
  }
 ],
 "metadata": {
  "kernelspec": {
   "display_name": "Python 3",
   "language": "python",
   "name": "python3"
  },
  "language_info": {
   "codemirror_mode": {
    "name": "ipython",
    "version": 2
   },
   "file_extension": ".py",
   "mimetype": "text/x-python",
   "name": "python",
   "nbconvert_exporter": "python",
   "pygments_lexer": "ipython2",
   "version": "2.7.6"
  }
 },
 "nbformat": 4,
 "nbformat_minor": 5
}
