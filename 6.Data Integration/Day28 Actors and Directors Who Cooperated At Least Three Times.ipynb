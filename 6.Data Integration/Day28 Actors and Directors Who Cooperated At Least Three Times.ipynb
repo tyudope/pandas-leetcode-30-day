{
 "cells": [
  {
   "metadata": {},
   "cell_type": "markdown",
   "source": [
    "# 📍 Problem Title: Actors and Directors Who Cooperated At Least Three Times\n",
    "\n",
    "🔗 [LeetCode Problem 1050 – Actors and Directors Who Cooperated At Least Three Times](https://leetcode.com/problems/actors-and-directors-who-cooperated-at-least-three-times/description/?envType=study-plan-v2&envId=30-days-of-pandas)\n",
    "\n",
    "---\n",
    "\n",
    "## 📝 Problem Description\n",
    "We are given a table `ActorDirector` with the following schema:\n",
    "\n",
    "| Column      | Type |\n",
    "|-------------|------|\n",
    "| actor_id    | int  |\n",
    "| director_id | int  |\n",
    "| timestamp   | date |\n",
    "\n",
    "Each row indicates that an `actor_id` cooperated with a `director_id` in a certain movie (recorded by `timestamp`).\n",
    "\n",
    "We need to find all **(actor_id, director_id)** pairs that cooperated at least **three times**.\n",
    "\n",
    "Return a table with the following columns:\n",
    "- `actor_id`\n",
    "- `director_id`\n",
    "\n",
    "---\n",
    "\n",
    "## 🧾 Example\n",
    "\n",
    "**Input:**\n",
    "\n",
    "| actor_id | director_id | timestamp   |\n",
    "|----------|-------------|-------------|\n",
    "| 1        | 1           | 2020-01-01  |\n",
    "| 1        | 1           | 2020-02-01  |\n",
    "| 1        | 1           | 2020-03-01  |\n",
    "| 2        | 1           | 2020-01-15  |\n",
    "\n",
    "**Output:**\n",
    "\n",
    "| actor_id | director_id |\n",
    "|----------|-------------|\n",
    "| 1        | 1           |\n",
    "\n",
    "---\n",
    "\n",
    "## 🧠 Key Concepts\n",
    "- **Grouping** → `groupby(['actor_id', 'director_id'])` collects all rows for each actor–director pair.\n",
    "- **Counting** → `.size()` counts the number of rows in each group (i.e., cooperations).\n",
    "- **Resetting the index** → `.reset_index(name=\"count\")` flattens the grouped result into a DataFrame with a proper `count` column.\n",
    "- **Filtering** → keep only rows where `count >= 3`.\n",
    "\n",
    "---\n",
    "\n",
    "## 🐼 Pandas Outline\n",
    "1. Group the DataFrame by `(actor_id, director_id)`.\n",
    "2. Use `.size()` to count the number of cooperations in each group.\n",
    "3. Convert the result into a clean DataFrame with `.reset_index(name=\"count\")`.\n",
    "4. Filter rows where `count >= 3`.\n",
    "5. Return only `actor_id` and `director_id`.\n",
    "\n",
    "---\n",
    "\n",
    "## 🔎 Visual Walkthrough\n",
    "\n",
    "**Step 1: Group and count with `.size()`**"
   ],
   "id": "aff1787b53acbf27"
  },
  {
   "cell_type": "code",
   "id": "initial_id",
   "metadata": {
    "collapsed": true,
    "ExecuteTime": {
     "end_time": "2025-09-06T13:30:56.728127Z",
     "start_time": "2025-09-06T13:30:56.722104Z"
    }
   },
   "source": [
    "import pandas as pd\n",
    "data = [[1, 1, 0], [1, 1, 1], [1, 1, 2], [1, 2, 3], [1, 2, 4], [2, 1, 5], [2, 1, 6]]\n",
    "actor_director = pd.DataFrame(data, columns=['actor_id', 'director_id', 'timestamp']).astype({'actor_id':'int64', 'director_id':'int64', 'timestamp':'int64'})"
   ],
   "outputs": [],
   "execution_count": 55
  },
  {
   "metadata": {
    "ExecuteTime": {
     "end_time": "2025-09-06T13:30:56.747974Z",
     "start_time": "2025-09-06T13:30:56.742656Z"
    }
   },
   "cell_type": "code",
   "source": "actor_director",
   "id": "f72cd0010c57cf14",
   "outputs": [
    {
     "data": {
      "text/plain": [
       "   actor_id  director_id  timestamp\n",
       "0         1            1          0\n",
       "1         1            1          1\n",
       "2         1            1          2\n",
       "3         1            2          3\n",
       "4         1            2          4\n",
       "5         2            1          5\n",
       "6         2            1          6"
      ],
      "text/html": [
       "<div>\n",
       "<style scoped>\n",
       "    .dataframe tbody tr th:only-of-type {\n",
       "        vertical-align: middle;\n",
       "    }\n",
       "\n",
       "    .dataframe tbody tr th {\n",
       "        vertical-align: top;\n",
       "    }\n",
       "\n",
       "    .dataframe thead th {\n",
       "        text-align: right;\n",
       "    }\n",
       "</style>\n",
       "<table border=\"1\" class=\"dataframe\">\n",
       "  <thead>\n",
       "    <tr style=\"text-align: right;\">\n",
       "      <th></th>\n",
       "      <th>actor_id</th>\n",
       "      <th>director_id</th>\n",
       "      <th>timestamp</th>\n",
       "    </tr>\n",
       "  </thead>\n",
       "  <tbody>\n",
       "    <tr>\n",
       "      <th>0</th>\n",
       "      <td>1</td>\n",
       "      <td>1</td>\n",
       "      <td>0</td>\n",
       "    </tr>\n",
       "    <tr>\n",
       "      <th>1</th>\n",
       "      <td>1</td>\n",
       "      <td>1</td>\n",
       "      <td>1</td>\n",
       "    </tr>\n",
       "    <tr>\n",
       "      <th>2</th>\n",
       "      <td>1</td>\n",
       "      <td>1</td>\n",
       "      <td>2</td>\n",
       "    </tr>\n",
       "    <tr>\n",
       "      <th>3</th>\n",
       "      <td>1</td>\n",
       "      <td>2</td>\n",
       "      <td>3</td>\n",
       "    </tr>\n",
       "    <tr>\n",
       "      <th>4</th>\n",
       "      <td>1</td>\n",
       "      <td>2</td>\n",
       "      <td>4</td>\n",
       "    </tr>\n",
       "    <tr>\n",
       "      <th>5</th>\n",
       "      <td>2</td>\n",
       "      <td>1</td>\n",
       "      <td>5</td>\n",
       "    </tr>\n",
       "    <tr>\n",
       "      <th>6</th>\n",
       "      <td>2</td>\n",
       "      <td>1</td>\n",
       "      <td>6</td>\n",
       "    </tr>\n",
       "  </tbody>\n",
       "</table>\n",
       "</div>"
      ]
     },
     "execution_count": 56,
     "metadata": {},
     "output_type": "execute_result"
    }
   ],
   "execution_count": 56
  },
  {
   "metadata": {
    "ExecuteTime": {
     "end_time": "2025-09-06T13:30:56.779367Z",
     "start_time": "2025-09-06T13:30:56.777039Z"
    }
   },
   "cell_type": "code",
   "source": [
    "def actors_and_directors(actor_director: pd.DataFrame) -> pd.DataFrame:\n",
    "    df = actor_director.groupby(['actor_id',\"director_id\"]).size().reset_index(name = \"count\")\n",
    "    return df[df['count']>= 3][[\"actor_id\" , \"director_id\"]]"
   ],
   "id": "cec48b7e58aa6d0a",
   "outputs": [],
   "execution_count": 57
  },
  {
   "metadata": {
    "ExecuteTime": {
     "end_time": "2025-09-06T13:30:56.812216Z",
     "start_time": "2025-09-06T13:30:56.807443Z"
    }
   },
   "cell_type": "code",
   "source": "actors_and_directors(actor_director)",
   "id": "f12da9b14e84a625",
   "outputs": [
    {
     "data": {
      "text/plain": [
       "   actor_id  director_id\n",
       "0         1            1"
      ],
      "text/html": [
       "<div>\n",
       "<style scoped>\n",
       "    .dataframe tbody tr th:only-of-type {\n",
       "        vertical-align: middle;\n",
       "    }\n",
       "\n",
       "    .dataframe tbody tr th {\n",
       "        vertical-align: top;\n",
       "    }\n",
       "\n",
       "    .dataframe thead th {\n",
       "        text-align: right;\n",
       "    }\n",
       "</style>\n",
       "<table border=\"1\" class=\"dataframe\">\n",
       "  <thead>\n",
       "    <tr style=\"text-align: right;\">\n",
       "      <th></th>\n",
       "      <th>actor_id</th>\n",
       "      <th>director_id</th>\n",
       "    </tr>\n",
       "  </thead>\n",
       "  <tbody>\n",
       "    <tr>\n",
       "      <th>0</th>\n",
       "      <td>1</td>\n",
       "      <td>1</td>\n",
       "    </tr>\n",
       "  </tbody>\n",
       "</table>\n",
       "</div>"
      ]
     },
     "execution_count": 58,
     "metadata": {},
     "output_type": "execute_result"
    }
   ],
   "execution_count": 58
  }
 ],
 "metadata": {
  "kernelspec": {
   "display_name": "Python 3",
   "language": "python",
   "name": "python3"
  },
  "language_info": {
   "codemirror_mode": {
    "name": "ipython",
    "version": 2
   },
   "file_extension": ".py",
   "mimetype": "text/x-python",
   "name": "python",
   "nbconvert_exporter": "python",
   "pygments_lexer": "ipython2",
   "version": "2.7.6"
  }
 },
 "nbformat": 4,
 "nbformat_minor": 5
}
