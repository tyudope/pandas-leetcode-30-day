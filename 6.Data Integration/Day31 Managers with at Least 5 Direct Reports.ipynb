{
 "cells": [
  {
   "metadata": {},
   "cell_type": "markdown",
   "source": [
    "# 📍 Problem Title: Managers with at Least 5 Direct Reports\n",
    "\n",
    "🔗 [LeetCode Problem 570 – Managers with at Least 5 Direct Reports](https://leetcode.com/problems/managers-with-at-least-5-direct-reports/description/?envType=study-plan-v2&envId=30-days-of-pandas)\n",
    "\n",
    "---\n",
    "\n",
    "## 📝 Problem Description\n",
    "We are given a table `Employee` with the following schema:\n",
    "\n",
    "| Column     | Type |\n",
    "|------------|------|\n",
    "| id         | int  |\n",
    "| name       | str  |\n",
    "| department | str  |\n",
    "| managerId  | int  |\n",
    "\n",
    "- `id` is the primary key for this table.\n",
    "- Each row contains an employee’s `id`, `name`, their `department`, and their `managerId`.\n",
    "- `managerId` points to another employee’s `id` (the manager).\n",
    "- If `managerId` is `null`, that employee has no manager.\n",
    "\n",
    "We need to find the **names of managers who have at least 5 direct reports**.\n",
    "\n",
    "---\n",
    "\n",
    "## 🧾 Example\n",
    "\n",
    "**Input:**\n",
    "\n",
    "| id | name  | department | managerId |\n",
    "|----|-------|------------|-----------|\n",
    "| 1  | John  | A          | null      |\n",
    "| 2  | Dan   | A          | 1         |\n",
    "| 3  | James | A          | 1         |\n",
    "| 4  | Amy   | A          | 1         |\n",
    "| 5  | Anne  | A          | 1         |\n",
    "| 6  | Ron   | A          | 1         |\n",
    "\n",
    "**Output:**\n",
    "\n",
    "| name |\n",
    "|------|\n",
    "| John |\n",
    "\n",
    "---\n",
    "\n",
    "## 🧠 Key Concepts\n",
    "- **Group employees by `managerId`** to count direct reports per manager.\n",
    "- **Filter managers with ≥ 5 direct reports**.\n",
    "- **Join back with employees** to retrieve manager names from their `id`.\n",
    "\n",
    "---\n",
    "\n",
    "## 🐼 Pandas Outline\n",
    "1. Use `groupby(\"managerId\").size()` to count employees under each manager.\n",
    "2. Convert the result into a DataFrame with `.reset_index(name=\"direct_reports\")`.\n",
    "3. Filter rows where `direct_reports >= 5`.\n",
    "4. Match the filtered manager IDs against the `id` column in the employees table.\n",
    "5. Return only the `name` column.\n",
    "\n",
    "---\n",
    "\n",
    "## 🧪 Example Flow\n",
    "\n",
    "**Step 1: Group employees by `managerId` and count**\n",
    "| managerId | direct_reports |\n",
    "|-----------|----------------|\n",
    "| 1         | 5              |\n",
    "\n",
    "**Step 2: Filter managers with at least 5 reports**\n",
    "| managerId | direct_reports |\n",
    "|-----------|----------------|\n",
    "| 1         | 5              |\n",
    "\n",
    "**Step 3: Match managerId back to employee id**\n",
    "| id | name | department | managerId |\n",
    "|----|------|------------|-----------|\n",
    "| 1  | John | A          | null      |\n",
    "\n",
    "**Step 4: Select the manager’s name**\n",
    "| name |\n",
    "|------|\n",
    "| John |\n",
    "\n",
    "---\n",
    "\n",
    "✅ This approach guarantees we capture all managers who directly manage **5 or more employees**."
   ],
   "id": "11e56aab420c6b90"
  },
  {
   "metadata": {
    "collapsed": true,
    "ExecuteTime": {
     "end_time": "2025-09-11T19:49:46.188692Z",
     "start_time": "2025-09-11T19:49:46.181344Z"
    }
   },
   "cell_type": "code",
   "source": [
    "import pandas as pd\n",
    "\n",
    "\n",
    "data = [[101, 'John', 'A', None], [102, 'Dan', 'A', 101], [103, 'James', 'A', 101], [104, 'Amy', 'A', 101], [105, 'Anne', 'A', 101], [106, 'Ron', 'B', 101]]\n",
    "employee = pd.DataFrame(data, columns=['id', 'name', 'department', 'managerId']).astype({'id':'Int64', 'name':'object', 'department':'object', 'managerId':'Int64'})"
   ],
   "id": "initial_id",
   "outputs": [],
   "execution_count": 12
  },
  {
   "metadata": {
    "ExecuteTime": {
     "end_time": "2025-09-11T20:00:30.825518Z",
     "start_time": "2025-09-11T20:00:30.821873Z"
    }
   },
   "cell_type": "code",
   "source": [
    "def find_managers(employee: pd.DataFrame) -> pd.DataFrame:\n",
    "\n",
    "    counts = (\n",
    "        employee.groupby(\"managerId\")\n",
    "        .size()\n",
    "        .reset_index(name = \"direct_reports\")\n",
    "    )\n",
    "    managers = counts[counts[\"direct_reports\"] >= 5]\n",
    "    return employee[employee[\"id\"].isin(managers[\"managerId\"])][[\"name\"]]"
   ],
   "id": "3d1e2803451d4022",
   "outputs": [],
   "execution_count": 28
  },
  {
   "metadata": {
    "ExecuteTime": {
     "end_time": "2025-09-11T20:00:34.929370Z",
     "start_time": "2025-09-11T20:00:34.919944Z"
    }
   },
   "cell_type": "code",
   "source": "find_managers(employee)",
   "id": "fbdea27beb749620",
   "outputs": [
    {
     "data": {
      "text/plain": [
       "   name\n",
       "0  John"
      ],
      "text/html": [
       "<div>\n",
       "<style scoped>\n",
       "    .dataframe tbody tr th:only-of-type {\n",
       "        vertical-align: middle;\n",
       "    }\n",
       "\n",
       "    .dataframe tbody tr th {\n",
       "        vertical-align: top;\n",
       "    }\n",
       "\n",
       "    .dataframe thead th {\n",
       "        text-align: right;\n",
       "    }\n",
       "</style>\n",
       "<table border=\"1\" class=\"dataframe\">\n",
       "  <thead>\n",
       "    <tr style=\"text-align: right;\">\n",
       "      <th></th>\n",
       "      <th>name</th>\n",
       "    </tr>\n",
       "  </thead>\n",
       "  <tbody>\n",
       "    <tr>\n",
       "      <th>0</th>\n",
       "      <td>John</td>\n",
       "    </tr>\n",
       "  </tbody>\n",
       "</table>\n",
       "</div>"
      ]
     },
     "execution_count": 29,
     "metadata": {},
     "output_type": "execute_result"
    }
   ],
   "execution_count": 29
  }
 ],
 "metadata": {
  "kernelspec": {
   "display_name": "Python 3",
   "language": "python",
   "name": "python3"
  },
  "language_info": {
   "codemirror_mode": {
    "name": "ipython",
    "version": 2
   },
   "file_extension": ".py",
   "mimetype": "text/x-python",
   "name": "python",
   "nbconvert_exporter": "python",
   "pygments_lexer": "ipython2",
   "version": "2.7.6"
  }
 },
 "nbformat": 4,
 "nbformat_minor": 5
}
