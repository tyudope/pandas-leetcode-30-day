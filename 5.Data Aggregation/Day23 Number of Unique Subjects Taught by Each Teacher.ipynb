{
 "cells": [
  {
   "metadata": {},
   "cell_type": "markdown",
   "source": [
    "# 📍 Problem Title: Number of Unique Subjects Taught by Each Teacher\n",
    "\n",
    "🔗 [LeetCode Problem 2356 – Number of Unique Subjects Taught by Each Teacher](https://leetcode.com/problems/number-of-unique-subjects-taught-by-each-teacher/description/?envType=study-plan-v2&envId=30-days-of-pandas)\n",
    "\n",
    "---\n",
    "\n",
    "## 📝 Problem Description\n",
    "We are given a table `Teacher` with the following schema:\n",
    "\n",
    "| Column     | Type |\n",
    "|------------|------|\n",
    "| teacher_id | int  |\n",
    "| subject_id | int  |\n",
    "| dept_id    | int  |\n",
    "\n",
    "Each row represents a teacher teaching a subject in a department.\n",
    "A teacher can appear multiple times if they teach the **same subject in different departments**.\n",
    "\n",
    "Write a solution to find the **number of unique subjects taught by each teacher**.\n",
    "\n",
    "Return a table with columns:\n",
    "- `teacher_id`\n",
    "- `cnt` (the number of distinct subjects)\n",
    "\n",
    "---\n",
    "\n",
    "## 🧾 Example\n",
    "\n",
    "**Input:**\n",
    "\n",
    "| teacher_id | subject_id | dept_id |\n",
    "|------------|------------|---------|\n",
    "| 1          | 2          | 3       |\n",
    "| 1          | 2          | 4       |\n",
    "| 1          | 3          | 3       |\n",
    "| 2          | 1          | 1       |\n",
    "| 2          | 2          | 1       |\n",
    "| 2          | 3          | 1       |\n",
    "| 2          | 4          | 1       |\n",
    "\n",
    "**Output:**\n",
    "\n",
    "| teacher_id | cnt |\n",
    "|------------|-----|\n",
    "| 1          | 2   |\n",
    "| 2          | 4   |\n",
    "\n",
    "---\n",
    "\n",
    "## 🧠 Key Concepts\n",
    "- Teachers may appear multiple times across departments.\n",
    "- We only care about **distinct (teacher_id, subject_id) pairs**.\n",
    "- Grouping by `teacher_id` allows us to count how many unique subjects each teacher teaches.\n",
    "\n",
    "\n"
   ],
   "id": "9c1279fb94ed8134"
  },
  {
   "cell_type": "code",
   "id": "initial_id",
   "metadata": {
    "collapsed": true,
    "ExecuteTime": {
     "end_time": "2025-09-05T00:09:29.086753Z",
     "start_time": "2025-09-05T00:09:29.078911Z"
    }
   },
   "source": "import pandas as pd\n",
   "outputs": [],
   "execution_count": 52
  },
  {
   "metadata": {
    "ExecuteTime": {
     "end_time": "2025-09-05T00:09:29.105470Z",
     "start_time": "2025-09-05T00:09:29.094450Z"
    }
   },
   "cell_type": "code",
   "source": [
    "data = [\n",
    "    [1, 2, 3],\n",
    "    [1, 2, 4],\n",
    "    [1, 3, 3],\n",
    "    [2, 1, 1],\n",
    "    [2, 2, 1],\n",
    "    [2, 3, 1],\n",
    "    [2, 4, 1]\n",
    "]\n",
    "\n",
    "teachers = pd.DataFrame(data, columns=[\"teacher_id\", \"subject_id\", \"dept_id\"])\n",
    "\n",
    "\n",
    "teachers"
   ],
   "id": "c414e19b0cd1a4b8",
   "outputs": [
    {
     "data": {
      "text/plain": [
       "   teacher_id  subject_id  dept_id\n",
       "0           1           2        3\n",
       "1           1           2        4\n",
       "2           1           3        3\n",
       "3           2           1        1\n",
       "4           2           2        1\n",
       "5           2           3        1\n",
       "6           2           4        1"
      ],
      "text/html": [
       "<div>\n",
       "<style scoped>\n",
       "    .dataframe tbody tr th:only-of-type {\n",
       "        vertical-align: middle;\n",
       "    }\n",
       "\n",
       "    .dataframe tbody tr th {\n",
       "        vertical-align: top;\n",
       "    }\n",
       "\n",
       "    .dataframe thead th {\n",
       "        text-align: right;\n",
       "    }\n",
       "</style>\n",
       "<table border=\"1\" class=\"dataframe\">\n",
       "  <thead>\n",
       "    <tr style=\"text-align: right;\">\n",
       "      <th></th>\n",
       "      <th>teacher_id</th>\n",
       "      <th>subject_id</th>\n",
       "      <th>dept_id</th>\n",
       "    </tr>\n",
       "  </thead>\n",
       "  <tbody>\n",
       "    <tr>\n",
       "      <th>0</th>\n",
       "      <td>1</td>\n",
       "      <td>2</td>\n",
       "      <td>3</td>\n",
       "    </tr>\n",
       "    <tr>\n",
       "      <th>1</th>\n",
       "      <td>1</td>\n",
       "      <td>2</td>\n",
       "      <td>4</td>\n",
       "    </tr>\n",
       "    <tr>\n",
       "      <th>2</th>\n",
       "      <td>1</td>\n",
       "      <td>3</td>\n",
       "      <td>3</td>\n",
       "    </tr>\n",
       "    <tr>\n",
       "      <th>3</th>\n",
       "      <td>2</td>\n",
       "      <td>1</td>\n",
       "      <td>1</td>\n",
       "    </tr>\n",
       "    <tr>\n",
       "      <th>4</th>\n",
       "      <td>2</td>\n",
       "      <td>2</td>\n",
       "      <td>1</td>\n",
       "    </tr>\n",
       "    <tr>\n",
       "      <th>5</th>\n",
       "      <td>2</td>\n",
       "      <td>3</td>\n",
       "      <td>1</td>\n",
       "    </tr>\n",
       "    <tr>\n",
       "      <th>6</th>\n",
       "      <td>2</td>\n",
       "      <td>4</td>\n",
       "      <td>1</td>\n",
       "    </tr>\n",
       "  </tbody>\n",
       "</table>\n",
       "</div>"
      ]
     },
     "execution_count": 53,
     "metadata": {},
     "output_type": "execute_result"
    }
   ],
   "execution_count": 53
  },
  {
   "metadata": {
    "ExecuteTime": {
     "end_time": "2025-09-05T00:09:29.147758Z",
     "start_time": "2025-09-05T00:09:29.144703Z"
    }
   },
   "cell_type": "code",
   "source": [
    "def count_unique_subjects(teacher : pd.DataFrame) -> pd.DataFrame:\n",
    "    #Step 1: Drop duplicate (teacher_id, subject_id) paris.\n",
    "    unique_pairs = teacher.drop_duplicates(subset = [\"teacher_id\",\"subject_id\"])\n",
    "\n",
    "    # Step2 : Group by teacher_id and count unique subjects\n",
    "\n",
    "    result = (\n",
    "        unique_pairs.groupby(\"teacher_id\", as_index = False)[\"subject_id\"].count().rename(columns = {\"subject_id\" : \"cnt\"})\n",
    "    )\n",
    "\n",
    "    # ALTERNATIVE SOLUTION ONE LINER.\n",
    "    # return teacher.groupby(\"teacher_id\")[\"subject_id\"].nunique().reset_index().rename(columns={\"subject_id\" : \"cnt\")\n",
    "\n",
    "\n",
    "    return result"
   ],
   "id": "6aa0fc639d3d07ee",
   "outputs": [],
   "execution_count": 54
  },
  {
   "metadata": {
    "ExecuteTime": {
     "end_time": "2025-09-05T00:09:29.192595Z",
     "start_time": "2025-09-05T00:09:29.186336Z"
    }
   },
   "cell_type": "code",
   "source": "count_unique_subjects(teachers)",
   "id": "27684572d769f7c5",
   "outputs": [
    {
     "data": {
      "text/plain": [
       "   teacher_id  cnt\n",
       "0           1    2\n",
       "1           2    4"
      ],
      "text/html": [
       "<div>\n",
       "<style scoped>\n",
       "    .dataframe tbody tr th:only-of-type {\n",
       "        vertical-align: middle;\n",
       "    }\n",
       "\n",
       "    .dataframe tbody tr th {\n",
       "        vertical-align: top;\n",
       "    }\n",
       "\n",
       "    .dataframe thead th {\n",
       "        text-align: right;\n",
       "    }\n",
       "</style>\n",
       "<table border=\"1\" class=\"dataframe\">\n",
       "  <thead>\n",
       "    <tr style=\"text-align: right;\">\n",
       "      <th></th>\n",
       "      <th>teacher_id</th>\n",
       "      <th>cnt</th>\n",
       "    </tr>\n",
       "  </thead>\n",
       "  <tbody>\n",
       "    <tr>\n",
       "      <th>0</th>\n",
       "      <td>1</td>\n",
       "      <td>2</td>\n",
       "    </tr>\n",
       "    <tr>\n",
       "      <th>1</th>\n",
       "      <td>2</td>\n",
       "      <td>4</td>\n",
       "    </tr>\n",
       "  </tbody>\n",
       "</table>\n",
       "</div>"
      ]
     },
     "execution_count": 55,
     "metadata": {},
     "output_type": "execute_result"
    }
   ],
   "execution_count": 55
  }
 ],
 "metadata": {
  "kernelspec": {
   "display_name": "Python 3",
   "language": "python",
   "name": "python3"
  },
  "language_info": {
   "codemirror_mode": {
    "name": "ipython",
    "version": 2
   },
   "file_extension": ".py",
   "mimetype": "text/x-python",
   "name": "python",
   "nbconvert_exporter": "python",
   "pygments_lexer": "ipython2",
   "version": "2.7.6"
  }
 },
 "nbformat": 4,
 "nbformat_minor": 5
}
