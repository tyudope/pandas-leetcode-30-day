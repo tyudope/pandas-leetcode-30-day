{
 "cells": [
  {
   "metadata": {},
   "cell_type": "markdown",
   "source": [
    "# 📍 Problem Title: Group Sold Products by the Date\n",
    "\n",
    "🔗 [LeetCode Problem 1484 – Group Sold Products by the Date](https://leetcode.com/problems/group-sold-products-by-the-date/description/?envType=study-plan-v2&envId=30-days-of-pandas)\n",
    "\n",
    "---\n",
    "\n",
    "## 📝 Problem Description\n",
    "We are given a table `Activities` with the following schema:\n",
    "\n",
    "| Column     | Type |\n",
    "|------------|------|\n",
    "| sell_date  | date |\n",
    "| product    | str  |\n",
    "\n",
    "- Each row represents a product sold on a particular date.\n",
    "- We need to group products by `sell_date` and report two things:\n",
    "  - **num_sold** → the number of distinct products sold on that date.\n",
    "  - **products** → the list of distinct products sold on that date, ordered lexicographically and joined by commas.\n",
    "\n",
    "Return the result table ordered by `sell_date`.\n",
    "\n",
    "---\n",
    "\n",
    "## 🧾 Example\n",
    "\n",
    "**Input:**\n",
    "\n",
    "| sell_date  | product   |\n",
    "|------------|-----------|\n",
    "| 2020-05-30 | Headphone |\n",
    "| 2020-05-30 | Pencil    |\n",
    "| 2020-06-01 | Pencil    |\n",
    "| 2020-06-01 | Mask      |\n",
    "| 2020-06-01 | Bible     |\n",
    "| 2020-06-02 | Mask      |\n",
    "\n",
    "**Output:**\n",
    "\n",
    "| sell_date  | num_sold | products              |\n",
    "|------------|----------|-----------------------|\n",
    "| 2020-05-30 | 2        | Headphone,Pencil      |\n",
    "| 2020-06-01 | 3        | Bible,Mask,Pencil     |\n",
    "| 2020-06-02 | 1        | Mask                  |\n",
    "\n",
    "---\n",
    "\n",
    "## 🧠 Key Concepts\n",
    "- **Grouping by date** → use `groupby(\"sell_date\")` to collect products sold on the same day.\n",
    "- **Distinct count** → use `.nunique()` to count how many unique products were sold.\n",
    "- **Sorted product list** →\n",
    "  - Convert group to a set to remove duplicates.\n",
    "  - Sort products alphabetically.\n",
    "  - Join into a comma-separated string.\n",
    "- **Ordering** → sort the final DataFrame by `sell_date`.\n",
    "\n",
    "---\n",
    "\n",
    "## 🐼 Pandas Outline\n",
    "1. Group the DataFrame by `sell_date`.\n",
    "2. Aggregate with two custom operations:\n",
    "   - `num_sold` = number of unique products.\n",
    "   - `products` = sorted, comma-separated string of unique products.\n",
    "3. Reset the index to flatten the grouped result.\n",
    "4. Sort by `sell_date`.\n",
    "\n",
    "---\n",
    "\n",
    "✅ This approach ensures we report **both the count of distinct products** and the **sorted product list** for each day."
   ],
   "id": "b84751ac888034d8"
  },
  {
   "cell_type": "code",
   "id": "initial_id",
   "metadata": {
    "collapsed": true,
    "ExecuteTime": {
     "end_time": "2025-09-05T22:26:59.483522Z",
     "start_time": "2025-09-05T22:26:59.480633Z"
    }
   },
   "source": "import pandas as pd",
   "outputs": [],
   "execution_count": 31
  },
  {
   "metadata": {
    "ExecuteTime": {
     "end_time": "2025-09-05T22:26:59.495798Z",
     "start_time": "2025-09-05T22:26:59.490822Z"
    }
   },
   "cell_type": "code",
   "source": [
    "data = [['2020-05-30', 'Headphone'], ['2020-06-01', 'Pencil'], ['2020-06-02', 'Mask'], ['2020-05-30', 'Basketball'], ['2020-06-01', 'Bible'], ['2020-06-02', 'Mask'], ['2020-05-30', 'T-Shirt']]\n",
    "activities = pd.DataFrame(data, columns=['sell_date', 'product']).astype({'sell_date':'datetime64[ns]', 'product':'object'})"
   ],
   "id": "ff7ecd5d7982b942",
   "outputs": [],
   "execution_count": 32
  },
  {
   "metadata": {
    "ExecuteTime": {
     "end_time": "2025-09-05T22:26:59.509900Z",
     "start_time": "2025-09-05T22:26:59.504377Z"
    }
   },
   "cell_type": "code",
   "source": "activities",
   "id": "cfeeb5a5f38dcf7a",
   "outputs": [
    {
     "data": {
      "text/plain": [
       "   sell_date     product\n",
       "0 2020-05-30   Headphone\n",
       "1 2020-06-01      Pencil\n",
       "2 2020-06-02        Mask\n",
       "3 2020-05-30  Basketball\n",
       "4 2020-06-01       Bible\n",
       "5 2020-06-02        Mask\n",
       "6 2020-05-30     T-Shirt"
      ],
      "text/html": [
       "<div>\n",
       "<style scoped>\n",
       "    .dataframe tbody tr th:only-of-type {\n",
       "        vertical-align: middle;\n",
       "    }\n",
       "\n",
       "    .dataframe tbody tr th {\n",
       "        vertical-align: top;\n",
       "    }\n",
       "\n",
       "    .dataframe thead th {\n",
       "        text-align: right;\n",
       "    }\n",
       "</style>\n",
       "<table border=\"1\" class=\"dataframe\">\n",
       "  <thead>\n",
       "    <tr style=\"text-align: right;\">\n",
       "      <th></th>\n",
       "      <th>sell_date</th>\n",
       "      <th>product</th>\n",
       "    </tr>\n",
       "  </thead>\n",
       "  <tbody>\n",
       "    <tr>\n",
       "      <th>0</th>\n",
       "      <td>2020-05-30</td>\n",
       "      <td>Headphone</td>\n",
       "    </tr>\n",
       "    <tr>\n",
       "      <th>1</th>\n",
       "      <td>2020-06-01</td>\n",
       "      <td>Pencil</td>\n",
       "    </tr>\n",
       "    <tr>\n",
       "      <th>2</th>\n",
       "      <td>2020-06-02</td>\n",
       "      <td>Mask</td>\n",
       "    </tr>\n",
       "    <tr>\n",
       "      <th>3</th>\n",
       "      <td>2020-05-30</td>\n",
       "      <td>Basketball</td>\n",
       "    </tr>\n",
       "    <tr>\n",
       "      <th>4</th>\n",
       "      <td>2020-06-01</td>\n",
       "      <td>Bible</td>\n",
       "    </tr>\n",
       "    <tr>\n",
       "      <th>5</th>\n",
       "      <td>2020-06-02</td>\n",
       "      <td>Mask</td>\n",
       "    </tr>\n",
       "    <tr>\n",
       "      <th>6</th>\n",
       "      <td>2020-05-30</td>\n",
       "      <td>T-Shirt</td>\n",
       "    </tr>\n",
       "  </tbody>\n",
       "</table>\n",
       "</div>"
      ]
     },
     "execution_count": 33,
     "metadata": {},
     "output_type": "execute_result"
    }
   ],
   "execution_count": 33
  },
  {
   "metadata": {
    "ExecuteTime": {
     "end_time": "2025-09-05T22:26:59.550840Z",
     "start_time": "2025-09-05T22:26:59.547390Z"
    }
   },
   "cell_type": "code",
   "source": [
    "def categorize_product(activities : pd.DataFrame) -> pd.DataFrame:\n",
    "    groups = activities.groupby(\"sell_date\") # groups the data by sell_date\n",
    "\n",
    "    # .agg() with multiple aggregations.\n",
    "    stats = groups.agg(\n",
    "        num_sold =(\"product\", \"nunique\"), # -> count distinct products per date.\n",
    "        products =(\"product\" , lambda x : \",\".join(sorted(set(x))))\n",
    "        # turns the group into set (to remove duplicates)\n",
    "        # sorted() puts them in ascending lexicographic order.\n",
    "        # ','.join() -> concatenates into a single string.\n",
    "    ).reset_index()\n",
    "    stats.sort_values(\"sell_date\" , inplace = True)\n",
    "    return stats\n"
   ],
   "id": "ee1810c43adc26a6",
   "outputs": [],
   "execution_count": 34
  },
  {
   "metadata": {
    "ExecuteTime": {
     "end_time": "2025-09-05T22:26:59.600369Z",
     "start_time": "2025-09-05T22:26:59.590575Z"
    }
   },
   "cell_type": "code",
   "source": "categorize_product(activities)",
   "id": "b7e73f7dbb475e7c",
   "outputs": [
    {
     "data": {
      "text/plain": [
       "   sell_date  num_sold                      products\n",
       "0 2020-05-30         3  Basketball,Headphone,T-Shirt\n",
       "1 2020-06-01         2                  Bible,Pencil\n",
       "2 2020-06-02         1                          Mask"
      ],
      "text/html": [
       "<div>\n",
       "<style scoped>\n",
       "    .dataframe tbody tr th:only-of-type {\n",
       "        vertical-align: middle;\n",
       "    }\n",
       "\n",
       "    .dataframe tbody tr th {\n",
       "        vertical-align: top;\n",
       "    }\n",
       "\n",
       "    .dataframe thead th {\n",
       "        text-align: right;\n",
       "    }\n",
       "</style>\n",
       "<table border=\"1\" class=\"dataframe\">\n",
       "  <thead>\n",
       "    <tr style=\"text-align: right;\">\n",
       "      <th></th>\n",
       "      <th>sell_date</th>\n",
       "      <th>num_sold</th>\n",
       "      <th>products</th>\n",
       "    </tr>\n",
       "  </thead>\n",
       "  <tbody>\n",
       "    <tr>\n",
       "      <th>0</th>\n",
       "      <td>2020-05-30</td>\n",
       "      <td>3</td>\n",
       "      <td>Basketball,Headphone,T-Shirt</td>\n",
       "    </tr>\n",
       "    <tr>\n",
       "      <th>1</th>\n",
       "      <td>2020-06-01</td>\n",
       "      <td>2</td>\n",
       "      <td>Bible,Pencil</td>\n",
       "    </tr>\n",
       "    <tr>\n",
       "      <th>2</th>\n",
       "      <td>2020-06-02</td>\n",
       "      <td>1</td>\n",
       "      <td>Mask</td>\n",
       "    </tr>\n",
       "  </tbody>\n",
       "</table>\n",
       "</div>"
      ]
     },
     "execution_count": 35,
     "metadata": {},
     "output_type": "execute_result"
    }
   ],
   "execution_count": 35
  }
 ],
 "metadata": {
  "kernelspec": {
   "display_name": "Python 3",
   "language": "python",
   "name": "python3"
  },
  "language_info": {
   "codemirror_mode": {
    "name": "ipython",
    "version": 2
   },
   "file_extension": ".py",
   "mimetype": "text/x-python",
   "name": "python",
   "nbconvert_exporter": "python",
   "pygments_lexer": "ipython2",
   "version": "2.7.6"
  }
 },
 "nbformat": 4,
 "nbformat_minor": 5
}
