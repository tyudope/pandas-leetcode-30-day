{
 "cells": [
  {
   "metadata": {},
   "cell_type": "markdown",
   "source": [
    "# 📍 Problem Title: Find Total Time Spent by Each Employee\n",
    "\n",
    "🔗 [LeetCode Problem 1741 – Find Total Time Spent by Each Employee](https://leetcode.com/problems/find-total-time-spent-by-each-employee/description/?envType=study-plan-v2&envId=30-days-of-pandas)\n",
    "\n",
    "---\n",
    "\n",
    "## 📝 Problem Description\n",
    "We are given a table `Employees` with the following schema:\n",
    "\n",
    "| Column    | Type |\n",
    "|-----------|------|\n",
    "| emp_id    | int  |\n",
    "| event_day | date |\n",
    "| in_time   | int  |\n",
    "| out_time  | int  |\n",
    "\n",
    "- `(emp_id, event_day, in_time)` is the primary key.\n",
    "- Each row represents an employee’s entry/exit record for a session on a given day.\n",
    "\n",
    "Write a solution to **calculate the total time each employee spent at work per day**.\n",
    "\n",
    "The result should have three columns:\n",
    "- `day` (same as `event_day`)\n",
    "- `emp_id`\n",
    "- `total_time`\n",
    "\n",
    "---\n",
    "\n",
    "## 🧾 Example\n",
    "\n",
    "**Input:**\n",
    "\n",
    "| emp_id | event_day  | in_time | out_time |\n",
    "|--------|------------|---------|----------|\n",
    "| 1      | 2020-11-28 | 4       | 32       |\n",
    "| 1      | 2020-11-28 | 55      | 200      |\n",
    "| 1      | 2020-12-03 | 1       | 42       |\n",
    "| 2      | 2020-11-28 | 3       | 33       |\n",
    "| 2      | 2020-12-09 | 47      | 74       |\n",
    "\n",
    "**Output:**\n",
    "\n",
    "| day        | emp_id | total_time |\n",
    "|------------|--------|------------|\n",
    "| 2020-11-28 | 1      | 173        |\n",
    "| 2020-12-03 | 1      | 41         |\n",
    "| 2020-11-28 | 2      | 30         |\n",
    "| 2020-12-09 | 2      | 27         |\n",
    "\n",
    "---\n",
    "\n",
    "## 🧠 Key Concepts\n",
    "- **Session time** per row = `out_time - in_time`\n",
    "- **Group by** `event_day` and `emp_id`\n",
    "- **Sum session times** to get daily totals\n",
    "- Rename `event_day` → `day` to match expected format\n",
    "- Select only the required columns for the result\n",
    "\n",
    "---\n",
    "\n",
    "✅ This approach explicitly computes time per session first, making the logic very clear. It ensures each employee’s **total working time per day** is calculated correctly.\n"
   ],
   "id": "6491766dd4d15d73"
  },
  {
   "cell_type": "code",
   "id": "initial_id",
   "metadata": {
    "collapsed": true,
    "ExecuteTime": {
     "end_time": "2025-09-01T23:17:52.100042Z",
     "start_time": "2025-09-01T23:17:52.096940Z"
    }
   },
   "source": "import pandas as pd",
   "outputs": [],
   "execution_count": 70
  },
  {
   "metadata": {
    "ExecuteTime": {
     "end_time": "2025-09-01T23:17:52.113038Z",
     "start_time": "2025-09-01T23:17:52.108548Z"
    }
   },
   "cell_type": "code",
   "source": [
    "\n",
    "data = [\n",
    "    [1, \"2020-11-28\", 4, 32],\n",
    "    [1, \"2020-11-28\", 55, 200],\n",
    "    [1, \"2020-12-3\", 1, 42],\n",
    "    [2, \"2020-11-28\", 3, 33],\n",
    "    [2, \"2020-12-9\", 47, 74]\n",
    "]\n",
    "\n",
    "employees = pd.DataFrame(data, columns=[\"emp_id\", \"event_day\", \"in_time\", \"out_time\"])\n"
   ],
   "id": "e29b3bd0555e86b9",
   "outputs": [],
   "execution_count": 71
  },
  {
   "metadata": {
    "ExecuteTime": {
     "end_time": "2025-09-01T23:17:52.128338Z",
     "start_time": "2025-09-01T23:17:52.122827Z"
    }
   },
   "cell_type": "code",
   "source": "employees",
   "id": "40285ec9524e9088",
   "outputs": [
    {
     "data": {
      "text/plain": [
       "   emp_id   event_day  in_time  out_time\n",
       "0       1  2020-11-28        4        32\n",
       "1       1  2020-11-28       55       200\n",
       "2       1   2020-12-3        1        42\n",
       "3       2  2020-11-28        3        33\n",
       "4       2   2020-12-9       47        74"
      ],
      "text/html": [
       "<div>\n",
       "<style scoped>\n",
       "    .dataframe tbody tr th:only-of-type {\n",
       "        vertical-align: middle;\n",
       "    }\n",
       "\n",
       "    .dataframe tbody tr th {\n",
       "        vertical-align: top;\n",
       "    }\n",
       "\n",
       "    .dataframe thead th {\n",
       "        text-align: right;\n",
       "    }\n",
       "</style>\n",
       "<table border=\"1\" class=\"dataframe\">\n",
       "  <thead>\n",
       "    <tr style=\"text-align: right;\">\n",
       "      <th></th>\n",
       "      <th>emp_id</th>\n",
       "      <th>event_day</th>\n",
       "      <th>in_time</th>\n",
       "      <th>out_time</th>\n",
       "    </tr>\n",
       "  </thead>\n",
       "  <tbody>\n",
       "    <tr>\n",
       "      <th>0</th>\n",
       "      <td>1</td>\n",
       "      <td>2020-11-28</td>\n",
       "      <td>4</td>\n",
       "      <td>32</td>\n",
       "    </tr>\n",
       "    <tr>\n",
       "      <th>1</th>\n",
       "      <td>1</td>\n",
       "      <td>2020-11-28</td>\n",
       "      <td>55</td>\n",
       "      <td>200</td>\n",
       "    </tr>\n",
       "    <tr>\n",
       "      <th>2</th>\n",
       "      <td>1</td>\n",
       "      <td>2020-12-3</td>\n",
       "      <td>1</td>\n",
       "      <td>42</td>\n",
       "    </tr>\n",
       "    <tr>\n",
       "      <th>3</th>\n",
       "      <td>2</td>\n",
       "      <td>2020-11-28</td>\n",
       "      <td>3</td>\n",
       "      <td>33</td>\n",
       "    </tr>\n",
       "    <tr>\n",
       "      <th>4</th>\n",
       "      <td>2</td>\n",
       "      <td>2020-12-9</td>\n",
       "      <td>47</td>\n",
       "      <td>74</td>\n",
       "    </tr>\n",
       "  </tbody>\n",
       "</table>\n",
       "</div>"
      ]
     },
     "execution_count": 72,
     "metadata": {},
     "output_type": "execute_result"
    }
   ],
   "execution_count": 72
  },
  {
   "metadata": {
    "ExecuteTime": {
     "end_time": "2025-09-01T23:17:52.162532Z",
     "start_time": "2025-09-01T23:17:52.159949Z"
    }
   },
   "cell_type": "code",
   "source": [
    "def total_time(employees : pd.DataFrame) -> pd.DataFrame:\n",
    "\n",
    "    # Calculate each events total time\n",
    "    employees['total_time'] = employees['out_time'] - employees['in_time']\n",
    "\n",
    "    # Groupby , as_index = False because we do not want to event_day and emp_id to became index.\n",
    "    grouped = employees.groupby(['event_day' , 'emp_id'],as_index = False)['total_time'].sum()\n",
    "\n",
    "    # rename the column to the match expected format.\n",
    "    grouped.rename(columns = {'event_day' : 'day'} , inplace = True)\n",
    "    return grouped\n",
    "\n"
   ],
   "id": "e06f1d3445ef6c3f",
   "outputs": [],
   "execution_count": 73
  },
  {
   "metadata": {
    "ExecuteTime": {
     "end_time": "2025-09-01T23:17:52.199334Z",
     "start_time": "2025-09-01T23:17:52.193639Z"
    }
   },
   "cell_type": "code",
   "source": "total_time(employees)",
   "id": "cda6cbeda6728b8",
   "outputs": [
    {
     "data": {
      "text/plain": [
       "          day  emp_id  total_time\n",
       "0  2020-11-28       1         173\n",
       "1  2020-11-28       2          30\n",
       "2   2020-12-3       1          41\n",
       "3   2020-12-9       2          27"
      ],
      "text/html": [
       "<div>\n",
       "<style scoped>\n",
       "    .dataframe tbody tr th:only-of-type {\n",
       "        vertical-align: middle;\n",
       "    }\n",
       "\n",
       "    .dataframe tbody tr th {\n",
       "        vertical-align: top;\n",
       "    }\n",
       "\n",
       "    .dataframe thead th {\n",
       "        text-align: right;\n",
       "    }\n",
       "</style>\n",
       "<table border=\"1\" class=\"dataframe\">\n",
       "  <thead>\n",
       "    <tr style=\"text-align: right;\">\n",
       "      <th></th>\n",
       "      <th>day</th>\n",
       "      <th>emp_id</th>\n",
       "      <th>total_time</th>\n",
       "    </tr>\n",
       "  </thead>\n",
       "  <tbody>\n",
       "    <tr>\n",
       "      <th>0</th>\n",
       "      <td>2020-11-28</td>\n",
       "      <td>1</td>\n",
       "      <td>173</td>\n",
       "    </tr>\n",
       "    <tr>\n",
       "      <th>1</th>\n",
       "      <td>2020-11-28</td>\n",
       "      <td>2</td>\n",
       "      <td>30</td>\n",
       "    </tr>\n",
       "    <tr>\n",
       "      <th>2</th>\n",
       "      <td>2020-12-3</td>\n",
       "      <td>1</td>\n",
       "      <td>41</td>\n",
       "    </tr>\n",
       "    <tr>\n",
       "      <th>3</th>\n",
       "      <td>2020-12-9</td>\n",
       "      <td>2</td>\n",
       "      <td>27</td>\n",
       "    </tr>\n",
       "  </tbody>\n",
       "</table>\n",
       "</div>"
      ]
     },
     "execution_count": 74,
     "metadata": {},
     "output_type": "execute_result"
    }
   ],
   "execution_count": 74
  }
 ],
 "metadata": {
  "kernelspec": {
   "display_name": "Python 3",
   "language": "python",
   "name": "python3"
  },
  "language_info": {
   "codemirror_mode": {
    "name": "ipython",
    "version": 2
   },
   "file_extension": ".py",
   "mimetype": "text/x-python",
   "name": "python",
   "nbconvert_exporter": "python",
   "pygments_lexer": "ipython2",
   "version": "2.7.6"
  }
 },
 "nbformat": 4,
 "nbformat_minor": 5
}
