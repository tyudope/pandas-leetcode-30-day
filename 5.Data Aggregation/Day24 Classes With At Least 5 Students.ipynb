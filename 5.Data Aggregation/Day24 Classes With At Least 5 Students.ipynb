{
 "cells": [
  {
   "metadata": {},
   "cell_type": "markdown",
   "source": [
    "# 📍 Problem Title: Classes More Than 5 Students\n",
    "\n",
    "🔗 [LeetCode Problem 596 – Classes More Than 5 Students](https://leetcode.com/problems/classes-with-at-least-5-students/description/?envType=study-plan-v2&envId=30-days-of-pandas)\n",
    "\n",
    "---\n",
    "\n",
    "## 📝 Problem Description\n",
    "We are given a table `Courses` with the following schema:\n",
    "\n",
    "| Column  | Type |\n",
    "|---------|------|\n",
    "| student | str\n",
    "| class   | str  |\n",
    "\n",
    "- `(student, class)` is the primary key.\n",
    "- Each row indicates that a student is enrolled in a class.\n",
    "\n",
    "Write a solution to find all the classes that have **at least 5 students enrolled**.\n",
    "Return the result table with a single column:\n",
    "- `class`\n",
    "\n",
    "---\n",
    "\n",
    "## 🧾 Example\n",
    "\n",
    "**Input:**\n",
    "\n",
    "| student | class    |\n",
    "|---------|----------|\n",
    "| A       | Math     |\n",
    "| B       | English  |\n",
    "| C       | Math     |\n",
    "| D       | Biology  |\n",
    "| E       | Math     |\n",
    "| F       | Computer |\n",
    "| G       | Math     |\n",
    "| H       | Math     |\n",
    "| I       | Math     |\n",
    "\n",
    "**Output:**\n",
    "\n",
    "| class |\n",
    "|-------|\n",
    "| Math  |\n",
    "\n",
    "---\n",
    "\n",
    "## 🧠 Key Concepts\n",
    "- **Group by `class`** → collect all rows belonging to the same class.\n",
    "- **Count the number of students** in each group.\n",
    "- **Filter classes** where the count ≥ 5.\n",
    "- Return only the column `class`.\n",
    "\n",
    "---\n",
    "\n",
    "## 🐼 Pandas Approach\n",
    "1. Use `groupby(\"class\")` to aggregate rows per class.\n",
    "2. Use `.count()` (or `.size()`) to count how many students per class.\n",
    "3. Filter with condition `>= 5`.\n",
    "4. Return only the `class` column.\n",
    "\n",
    "---\n",
    "\n",
    "✅ This approach ensures we only list classes that have **5 or more students** enrolled."
   ],
   "id": "daae04eb5c06f01"
  },
  {
   "cell_type": "code",
   "id": "initial_id",
   "metadata": {
    "collapsed": true,
    "ExecuteTime": {
     "end_time": "2025-09-05T00:13:17.660718Z",
     "start_time": "2025-09-05T00:13:17.651923Z"
    }
   },
   "source": [
    "import pandas as pd\n",
    "\n",
    "data = [\n",
    "    [\"A\", \"Math\"],\n",
    "    [\"B\", \"English\"],\n",
    "    [\"C\", \"Math\"],\n",
    "    [\"D\", \"Biology\"],\n",
    "    [\"E\", \"Math\"],\n",
    "    [\"F\", \"Computer\"],\n",
    "    [\"G\", \"Math\"],\n",
    "    [\"H\", \"Math\"],\n",
    "    [\"I\", \"Math\"]\n",
    "]\n",
    "\n",
    "students = pd.DataFrame(data, columns=[\"student\", \"class\"])\n",
    "\n",
    "students"
   ],
   "outputs": [
    {
     "data": {
      "text/plain": [
       "  student     class\n",
       "0       A      Math\n",
       "1       B   English\n",
       "2       C      Math\n",
       "3       D   Biology\n",
       "4       E      Math\n",
       "5       F  Computer\n",
       "6       G      Math\n",
       "7       H      Math\n",
       "8       I      Math"
      ],
      "text/html": [
       "<div>\n",
       "<style scoped>\n",
       "    .dataframe tbody tr th:only-of-type {\n",
       "        vertical-align: middle;\n",
       "    }\n",
       "\n",
       "    .dataframe tbody tr th {\n",
       "        vertical-align: top;\n",
       "    }\n",
       "\n",
       "    .dataframe thead th {\n",
       "        text-align: right;\n",
       "    }\n",
       "</style>\n",
       "<table border=\"1\" class=\"dataframe\">\n",
       "  <thead>\n",
       "    <tr style=\"text-align: right;\">\n",
       "      <th></th>\n",
       "      <th>student</th>\n",
       "      <th>class</th>\n",
       "    </tr>\n",
       "  </thead>\n",
       "  <tbody>\n",
       "    <tr>\n",
       "      <th>0</th>\n",
       "      <td>A</td>\n",
       "      <td>Math</td>\n",
       "    </tr>\n",
       "    <tr>\n",
       "      <th>1</th>\n",
       "      <td>B</td>\n",
       "      <td>English</td>\n",
       "    </tr>\n",
       "    <tr>\n",
       "      <th>2</th>\n",
       "      <td>C</td>\n",
       "      <td>Math</td>\n",
       "    </tr>\n",
       "    <tr>\n",
       "      <th>3</th>\n",
       "      <td>D</td>\n",
       "      <td>Biology</td>\n",
       "    </tr>\n",
       "    <tr>\n",
       "      <th>4</th>\n",
       "      <td>E</td>\n",
       "      <td>Math</td>\n",
       "    </tr>\n",
       "    <tr>\n",
       "      <th>5</th>\n",
       "      <td>F</td>\n",
       "      <td>Computer</td>\n",
       "    </tr>\n",
       "    <tr>\n",
       "      <th>6</th>\n",
       "      <td>G</td>\n",
       "      <td>Math</td>\n",
       "    </tr>\n",
       "    <tr>\n",
       "      <th>7</th>\n",
       "      <td>H</td>\n",
       "      <td>Math</td>\n",
       "    </tr>\n",
       "    <tr>\n",
       "      <th>8</th>\n",
       "      <td>I</td>\n",
       "      <td>Math</td>\n",
       "    </tr>\n",
       "  </tbody>\n",
       "</table>\n",
       "</div>"
      ]
     },
     "execution_count": 2,
     "metadata": {},
     "output_type": "execute_result"
    }
   ],
   "execution_count": 2
  },
  {
   "metadata": {
    "ExecuteTime": {
     "end_time": "2025-09-05T00:16:34.093723Z",
     "start_time": "2025-09-05T00:16:34.090742Z"
    }
   },
   "cell_type": "code",
   "source": [
    "def find_classes(courses : pd.DataFrame) -> pd.DataFrame:\n",
    "    result = students.groupby(by = [\"class\"] , as_index = False).count()\n",
    "    return result[result[\"student\"] >= 5][[\"class\"]]\n",
    "\n"
   ],
   "id": "7edb1e76374dba4e",
   "outputs": [],
   "execution_count": 12
  },
  {
   "metadata": {
    "ExecuteTime": {
     "end_time": "2025-09-05T00:16:34.886801Z",
     "start_time": "2025-09-05T00:16:34.878425Z"
    }
   },
   "cell_type": "code",
   "source": "find_classes(students)",
   "id": "7b6a4ee1a308503",
   "outputs": [
    {
     "data": {
      "text/plain": [
       "  class\n",
       "3  Math"
      ],
      "text/html": [
       "<div>\n",
       "<style scoped>\n",
       "    .dataframe tbody tr th:only-of-type {\n",
       "        vertical-align: middle;\n",
       "    }\n",
       "\n",
       "    .dataframe tbody tr th {\n",
       "        vertical-align: top;\n",
       "    }\n",
       "\n",
       "    .dataframe thead th {\n",
       "        text-align: right;\n",
       "    }\n",
       "</style>\n",
       "<table border=\"1\" class=\"dataframe\">\n",
       "  <thead>\n",
       "    <tr style=\"text-align: right;\">\n",
       "      <th></th>\n",
       "      <th>class</th>\n",
       "    </tr>\n",
       "  </thead>\n",
       "  <tbody>\n",
       "    <tr>\n",
       "      <th>3</th>\n",
       "      <td>Math</td>\n",
       "    </tr>\n",
       "  </tbody>\n",
       "</table>\n",
       "</div>"
      ]
     },
     "execution_count": 13,
     "metadata": {},
     "output_type": "execute_result"
    }
   ],
   "execution_count": 13
  }
 ],
 "metadata": {
  "kernelspec": {
   "display_name": "Python 3",
   "language": "python",
   "name": "python3"
  },
  "language_info": {
   "codemirror_mode": {
    "name": "ipython",
    "version": 2
   },
   "file_extension": ".py",
   "mimetype": "text/x-python",
   "name": "python",
   "nbconvert_exporter": "python",
   "pygments_lexer": "ipython2",
   "version": "2.7.6"
  }
 },
 "nbformat": 4,
 "nbformat_minor": 5
}
