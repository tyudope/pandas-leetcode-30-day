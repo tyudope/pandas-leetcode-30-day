{
 "cells": [
  {
   "metadata": {},
   "cell_type": "markdown",
   "source": [
    "# 📍 Problem Title: Customer Placing the Largest Number of Orders\n",
    "\n",
    "🔗 [LeetCode Problem 586 – Customer Placing the Largest Number of Orders](https://leetcode.com/problems/customer-placing-the-largest-number-of-orders/description/?envType=study-plan-v2&envId=30-days-of-pandas)\n",
    "\n",
    "---\n",
    "\n",
    "## 📝 Problem Description\n",
    "We are given a table `Orders` with the following schema:\n",
    "\n",
    "| Column        | Type |\n",
    "|---------------|------|\n",
    "| order_number  | int  |\n",
    "| customer_number | int |\n",
    "\n",
    "- Each row represents one order placed by a customer.\n",
    "- We want to find the **customer who placed the largest number of orders**.\n",
    "\n",
    "Return a table with a single column:\n",
    "- `customer_number`\n",
    "\n",
    "---\n",
    "\n",
    "## 🧾 Example\n",
    "\n",
    "**Input:**\n",
    "\n",
    "| order_number | customer_number |\n",
    "|--------------|-----------------|\n",
    "| 1            | 1               |\n",
    "| 2            | 2               |\n",
    "| 3            | 3               |\n",
    "| 4            | 3               |\n",
    "\n",
    "**Output:**\n",
    "\n",
    "| customer_number |\n",
    "|-----------------|\n",
    "| 3               |\n",
    "\n",
    "---\n",
    "\n",
    "## 🧠 Key Concepts\n",
    "- **Group by `customer_number`** → collect all orders per customer.\n",
    "- **Count the number of orders** for each customer.\n",
    "- **Find the maximum order count** and return the customer(s).\n",
    "\n",
    "---\n",
    "\n",
    "## 🐼 Approach 1: Using `.nlargest()`\n",
    "1. Group by `customer_number` and count orders.\n",
    "2. Use `.nlargest(n=1)` to pick the customer with the maximum order count.\n",
    "\n",
    "⚠️ This only returns **one customer** (not ties).\n",
    "\n",
    "---\n",
    "\n",
    "## 🐼 Approach 2: Using `.max()` (handles ties)\n",
    "1. Group by `customer_number` and count orders.\n",
    "2. Compute the maximum order count with `.max()`.\n",
    "3. Filter all rows where count == max.\n",
    "4. Return all customer numbers.\n",
    "\n",
    "✅ This approach works even if multiple customers share the maximum number of orders.\n",
    "\n",
    "---\n",
    "\n",
    "## 🧾 Follow-up Example\n",
    "\n",
    "**Input:**\n",
    "\n",
    "| order_number | customer_number |\n",
    "|--------------|-----------------|\n",
    "| 1            | 1               |\n",
    "| 2            | 2               |\n",
    "| 3            | 3               |\n",
    "| 4            | 3               |\n",
    "| 5            | 2               |\n",
    "| 6            | 2               |\n",
    "| 7            | 3               |\n",
    "\n",
    "**Counts:**\n",
    "- Customer 1 → 1 order\n",
    "- Customer 2 → 3 orders\n",
    "- Customer 3 → 3 orders\n",
    "\n",
    "**Output:**\n",
    "\n",
    "| customer_number |\n",
    "|-----------------|\n",
    "| 2               |\n",
    "| 3               |\n",
    "\n",
    "---\n",
    "\n",
    "## 🔎 Comparison\n",
    "- **Approach 1 (nlargest):** concise, but only returns one row.\n",
    "- **Approach 2 (== max):** more explicit, and correctly handles ties.\n",
    "\n",
    "✅ Use **Approach 2** if the follow-up asks for all customers with the maximum number of orders."
   ],
   "id": "69cc7a6688137a6d"
  },
  {
   "cell_type": "code",
   "id": "initial_id",
   "metadata": {
    "collapsed": true,
    "ExecuteTime": {
     "end_time": "2025-09-05T00:38:47.308799Z",
     "start_time": "2025-09-05T00:38:47.303107Z"
    }
   },
   "source": [
    "import pandas as pd\n",
    "\n",
    "data = [\n",
    "    [1, 1],\n",
    "    [2, 2],\n",
    "    [3, 3],\n",
    "    [4, 3],\n",
    "    [5, 2],\n",
    "    [6, 2],\n",
    "    [7, 3]\n",
    "]\n",
    "\n",
    "orders = pd.DataFrame(\n",
    "    data,\n",
    "    columns=[\"order_number\", \"customer_number\"]\n",
    ")\n",
    "orders"
   ],
   "outputs": [
    {
     "data": {
      "text/plain": [
       "   order_number  customer_number\n",
       "0             1                1\n",
       "1             2                2\n",
       "2             3                3\n",
       "3             4                3\n",
       "4             5                2\n",
       "5             6                2\n",
       "6             7                3"
      ],
      "text/html": [
       "<div>\n",
       "<style scoped>\n",
       "    .dataframe tbody tr th:only-of-type {\n",
       "        vertical-align: middle;\n",
       "    }\n",
       "\n",
       "    .dataframe tbody tr th {\n",
       "        vertical-align: top;\n",
       "    }\n",
       "\n",
       "    .dataframe thead th {\n",
       "        text-align: right;\n",
       "    }\n",
       "</style>\n",
       "<table border=\"1\" class=\"dataframe\">\n",
       "  <thead>\n",
       "    <tr style=\"text-align: right;\">\n",
       "      <th></th>\n",
       "      <th>order_number</th>\n",
       "      <th>customer_number</th>\n",
       "    </tr>\n",
       "  </thead>\n",
       "  <tbody>\n",
       "    <tr>\n",
       "      <th>0</th>\n",
       "      <td>1</td>\n",
       "      <td>1</td>\n",
       "    </tr>\n",
       "    <tr>\n",
       "      <th>1</th>\n",
       "      <td>2</td>\n",
       "      <td>2</td>\n",
       "    </tr>\n",
       "    <tr>\n",
       "      <th>2</th>\n",
       "      <td>3</td>\n",
       "      <td>3</td>\n",
       "    </tr>\n",
       "    <tr>\n",
       "      <th>3</th>\n",
       "      <td>4</td>\n",
       "      <td>3</td>\n",
       "    </tr>\n",
       "    <tr>\n",
       "      <th>4</th>\n",
       "      <td>5</td>\n",
       "      <td>2</td>\n",
       "    </tr>\n",
       "    <tr>\n",
       "      <th>5</th>\n",
       "      <td>6</td>\n",
       "      <td>2</td>\n",
       "    </tr>\n",
       "    <tr>\n",
       "      <th>6</th>\n",
       "      <td>7</td>\n",
       "      <td>3</td>\n",
       "    </tr>\n",
       "  </tbody>\n",
       "</table>\n",
       "</div>"
      ]
     },
     "execution_count": 52,
     "metadata": {},
     "output_type": "execute_result"
    }
   ],
   "execution_count": 52
  },
  {
   "metadata": {
    "ExecuteTime": {
     "end_time": "2025-09-05T00:38:47.740157Z",
     "start_time": "2025-09-05T00:38:47.737022Z"
    }
   },
   "cell_type": "code",
   "source": [
    "def largest_orders(orders : pd.DataFrame) -> pd.DataFrame:\n",
    "\n",
    "    return orders.groupby(by = \"customer_number\" , as_index = False)[\"order_number\"].count().nlargest(columns = \"order_number\" , n = 1)[[\"customer_number\"]]"
   ],
   "id": "ea420cc78c762673",
   "outputs": [],
   "execution_count": 53
  },
  {
   "metadata": {
    "ExecuteTime": {
     "end_time": "2025-09-05T00:38:47.955718Z",
     "start_time": "2025-09-05T00:38:47.949150Z"
    }
   },
   "cell_type": "code",
   "source": "largest_orders(orders)",
   "id": "b86400e50cd098ba",
   "outputs": [
    {
     "data": {
      "text/plain": [
       "   customer_number\n",
       "1                2"
      ],
      "text/html": [
       "<div>\n",
       "<style scoped>\n",
       "    .dataframe tbody tr th:only-of-type {\n",
       "        vertical-align: middle;\n",
       "    }\n",
       "\n",
       "    .dataframe tbody tr th {\n",
       "        vertical-align: top;\n",
       "    }\n",
       "\n",
       "    .dataframe thead th {\n",
       "        text-align: right;\n",
       "    }\n",
       "</style>\n",
       "<table border=\"1\" class=\"dataframe\">\n",
       "  <thead>\n",
       "    <tr style=\"text-align: right;\">\n",
       "      <th></th>\n",
       "      <th>customer_number</th>\n",
       "    </tr>\n",
       "  </thead>\n",
       "  <tbody>\n",
       "    <tr>\n",
       "      <th>1</th>\n",
       "      <td>2</td>\n",
       "    </tr>\n",
       "  </tbody>\n",
       "</table>\n",
       "</div>"
      ]
     },
     "execution_count": 54,
     "metadata": {},
     "output_type": "execute_result"
    }
   ],
   "execution_count": 54
  },
  {
   "metadata": {},
   "cell_type": "markdown",
   "source": "#### Follow up: What if more than one customer has the largest number of orders, can you find the all **customer_number** in this case ?",
   "id": "5f5c021a79e0389c"
  },
  {
   "metadata": {
    "ExecuteTime": {
     "end_time": "2025-09-05T00:38:49.048298Z",
     "start_time": "2025-09-05T00:38:49.043916Z"
    }
   },
   "cell_type": "code",
   "source": [
    "def largest_orders_followUp(orders: pd.DataFrame) -> pd.DataFrame:\n",
    "    # Step 1: count orders per customer\n",
    "    order_counts = orders.groupby(\"customer_number\").size().reset_index(name=\"count\")\n",
    "\n",
    "    # Step 2: find the maximum number of orders\n",
    "    max_count = order_counts[\"count\"].max()\n",
    "\n",
    "    # Step 3: filter all customers who have that max\n",
    "    result = order_counts[order_counts[\"count\"] == max_count][[\"customer_number\"]]\n",
    "\n",
    "    return result\n"
   ],
   "id": "d1abf90303062e14",
   "outputs": [],
   "execution_count": 55
  },
  {
   "metadata": {
    "ExecuteTime": {
     "end_time": "2025-09-05T00:38:55.109928Z",
     "start_time": "2025-09-05T00:38:55.103715Z"
    }
   },
   "cell_type": "code",
   "source": "largest_orders_followUp(orders)",
   "id": "8d89480fd3f88718",
   "outputs": [
    {
     "data": {
      "text/plain": [
       "   customer_number\n",
       "1                2\n",
       "2                3"
      ],
      "text/html": [
       "<div>\n",
       "<style scoped>\n",
       "    .dataframe tbody tr th:only-of-type {\n",
       "        vertical-align: middle;\n",
       "    }\n",
       "\n",
       "    .dataframe tbody tr th {\n",
       "        vertical-align: top;\n",
       "    }\n",
       "\n",
       "    .dataframe thead th {\n",
       "        text-align: right;\n",
       "    }\n",
       "</style>\n",
       "<table border=\"1\" class=\"dataframe\">\n",
       "  <thead>\n",
       "    <tr style=\"text-align: right;\">\n",
       "      <th></th>\n",
       "      <th>customer_number</th>\n",
       "    </tr>\n",
       "  </thead>\n",
       "  <tbody>\n",
       "    <tr>\n",
       "      <th>1</th>\n",
       "      <td>2</td>\n",
       "    </tr>\n",
       "    <tr>\n",
       "      <th>2</th>\n",
       "      <td>3</td>\n",
       "    </tr>\n",
       "  </tbody>\n",
       "</table>\n",
       "</div>"
      ]
     },
     "execution_count": 57,
     "metadata": {},
     "output_type": "execute_result"
    }
   ],
   "execution_count": 57
  }
 ],
 "metadata": {
  "kernelspec": {
   "display_name": "Python 3",
   "language": "python",
   "name": "python3"
  },
  "language_info": {
   "codemirror_mode": {
    "name": "ipython",
    "version": 2
   },
   "file_extension": ".py",
   "mimetype": "text/x-python",
   "name": "python",
   "nbconvert_exporter": "python",
   "pygments_lexer": "ipython2",
   "version": "2.7.6"
  }
 },
 "nbformat": 4,
 "nbformat_minor": 5
}
