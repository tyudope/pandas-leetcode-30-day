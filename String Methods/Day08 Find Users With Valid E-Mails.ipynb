{
 "cells": [
  {
   "metadata": {},
   "cell_type": "markdown",
   "source": [
    "# 📍 Problem Title: Find Users With Valid E-Mails\n",
    "\n",
    "🔗 [LeetCode Problem 1517 – Find Users With Valid E-Mails](https://leetcode.com/problems/find-users-with-valid-e-mails/)\n",
    "\n",
    "## 🗂️ Category\n",
    "- Topic: **String Validation**, **Regex**\n",
    "- Difficulty: ⭐ Easy\n",
    "\n",
    "## 📝 Problem Description\n",
    "You're given a `Users` table with the following columns:\n",
    "- `user_id` (int)\n",
    "- `name` (string)\n",
    "- `mail` (string)\n",
    "\n",
    "A valid email must follow these rules:\n",
    "1. **Prefix**:\n",
    "   - Starts with an uppercase or lowercase letter (`A–Z` or `a–z`)\n",
    "   - May contain **letters**, **digits**, **underscore `_`**, **period `.`**, and/or **dash `-`**.\n",
    "2. **Domain**:\n",
    "   - Must be exactly `@leetcode.com`\n",
    "\n",
    "Return the list of users whose `mail` is valid according to these rules, in any order.\n",
    "\n",
    "---\n",
    "\n",
    "## 🧾 Example Input\n",
    "\n",
    "| user_id | name     | mail                      |\n",
    "|---------|----------|---------------------------|\n",
    "| 1       | Alice    | alice@leetcode.com         |\n",
    "| 2       | Bob      | bob@leeetcode.com          |\n",
    "| 3       | Charlie  | charlie_123@leetcode.com   |\n",
    "| 4       | David    | 123david@leetcode.com      |\n",
    "\n",
    "## ✅ Expected Output\n",
    "\n",
    "| user_id | name     | mail                      |\n",
    "|---------|----------|---------------------------|\n",
    "| 1       | Alice    | alice@leetcode.com         |\n",
    "| 3       | Charlie  | charlie_123@leetcode.com   |\n",
    "\n",
    "---\n",
    "\n",
    "## 🧠 Key Concepts\n",
    "- **Regular Expressions (Regex)** for pattern matching\n",
    "- Pandas `.str.match()` for filtering string columns by regex\n",
    "- Boolean indexing in Pandas\n",
    "\n",
    "---"
   ],
   "id": "b863eaed5d505c56"
  },
  {
   "cell_type": "code",
   "id": "initial_id",
   "metadata": {
    "collapsed": true,
    "ExecuteTime": {
     "end_time": "2025-08-15T01:59:37.554871Z",
     "start_time": "2025-08-15T01:59:37.549Z"
    }
   },
   "source": [
    "import pandas as pd\n",
    "\n",
    "data = [\n",
    "    [1, \"Alice\", \"alice@leetcode.com\"],\n",
    "    [2, \"Bob\", \"bob@leeetcode.com\"],\n",
    "    [3, \"Charlie\", \"charlie_123@leetcode.com\"],\n",
    "    [4, \"David\", \"123david@leetcode.com\"]\n",
    "]\n",
    "\n",
    "users = pd.DataFrame(data, columns=[\"user_id\", \"name\", \"mail\"])\n",
    "users"
   ],
   "outputs": [
    {
     "data": {
      "text/plain": [
       "   user_id     name                      mail\n",
       "0        1    Alice        alice@leetcode.com\n",
       "1        2      Bob         bob@leeetcode.com\n",
       "2        3  Charlie  charlie_123@leetcode.com\n",
       "3        4    David     123david@leetcode.com"
      ],
      "text/html": [
       "<div>\n",
       "<style scoped>\n",
       "    .dataframe tbody tr th:only-of-type {\n",
       "        vertical-align: middle;\n",
       "    }\n",
       "\n",
       "    .dataframe tbody tr th {\n",
       "        vertical-align: top;\n",
       "    }\n",
       "\n",
       "    .dataframe thead th {\n",
       "        text-align: right;\n",
       "    }\n",
       "</style>\n",
       "<table border=\"1\" class=\"dataframe\">\n",
       "  <thead>\n",
       "    <tr style=\"text-align: right;\">\n",
       "      <th></th>\n",
       "      <th>user_id</th>\n",
       "      <th>name</th>\n",
       "      <th>mail</th>\n",
       "    </tr>\n",
       "  </thead>\n",
       "  <tbody>\n",
       "    <tr>\n",
       "      <th>0</th>\n",
       "      <td>1</td>\n",
       "      <td>Alice</td>\n",
       "      <td>alice@leetcode.com</td>\n",
       "    </tr>\n",
       "    <tr>\n",
       "      <th>1</th>\n",
       "      <td>2</td>\n",
       "      <td>Bob</td>\n",
       "      <td>bob@leeetcode.com</td>\n",
       "    </tr>\n",
       "    <tr>\n",
       "      <th>2</th>\n",
       "      <td>3</td>\n",
       "      <td>Charlie</td>\n",
       "      <td>charlie_123@leetcode.com</td>\n",
       "    </tr>\n",
       "    <tr>\n",
       "      <th>3</th>\n",
       "      <td>4</td>\n",
       "      <td>David</td>\n",
       "      <td>123david@leetcode.com</td>\n",
       "    </tr>\n",
       "  </tbody>\n",
       "</table>\n",
       "</div>"
      ]
     },
     "execution_count": 113,
     "metadata": {},
     "output_type": "execute_result"
    }
   ],
   "execution_count": 113
  },
  {
   "metadata": {},
   "cell_type": "markdown",
   "source": [
    "## 🔍 Quick Regex Guide\n",
    "\n",
    "Pattern: `^[A-Za-z][A-Za-z0-9_.-]*@leetcode\\.com$`\n",
    "\n",
    "- `^` → start of string\n",
    "- `[A-Za-z]` → first character must be a letter\n",
    "- `[A-Za-z0-9_.-]*` → rest can be letters, numbers, `_`, `.`, or `-`\n",
    "- `@leetcode\\.com` → must have exactly this domain\n",
    "- `$` → end of string\n",
    "\n",
    "Basically: **Starts with a letter, only allowed characters in the prefix, ends with `@leetcode.com`.**"
   ],
   "id": "be146b815ce25fbe"
  },
  {
   "metadata": {
    "ExecuteTime": {
     "end_time": "2025-08-15T01:59:38.582331Z",
     "start_time": "2025-08-15T01:59:38.578330Z"
    }
   },
   "cell_type": "code",
   "source": [
    "import pandas as pd\n",
    "\n",
    "def valid_emails(users: pd.DataFrame) -> pd.DataFrame:\n",
    "    return users[\n",
    "        users['mail'].str.match(r'^[A-Za-z][A-Za-z0-9_.-]*@leetcode\\.com$')\n",
    "    ]\n"
   ],
   "id": "672f73d3d1b6edfc",
   "outputs": [],
   "execution_count": 114
  },
  {
   "metadata": {
    "ExecuteTime": {
     "end_time": "2025-08-15T01:59:52.609060Z",
     "start_time": "2025-08-15T01:59:52.602489Z"
    }
   },
   "cell_type": "code",
   "source": "valid_emails(users)",
   "id": "b472cb34e4b9b21c",
   "outputs": [
    {
     "data": {
      "text/plain": [
       "   user_id     name                      mail\n",
       "0        1    Alice        alice@leetcode.com\n",
       "2        3  Charlie  charlie_123@leetcode.com"
      ],
      "text/html": [
       "<div>\n",
       "<style scoped>\n",
       "    .dataframe tbody tr th:only-of-type {\n",
       "        vertical-align: middle;\n",
       "    }\n",
       "\n",
       "    .dataframe tbody tr th {\n",
       "        vertical-align: top;\n",
       "    }\n",
       "\n",
       "    .dataframe thead th {\n",
       "        text-align: right;\n",
       "    }\n",
       "</style>\n",
       "<table border=\"1\" class=\"dataframe\">\n",
       "  <thead>\n",
       "    <tr style=\"text-align: right;\">\n",
       "      <th></th>\n",
       "      <th>user_id</th>\n",
       "      <th>name</th>\n",
       "      <th>mail</th>\n",
       "    </tr>\n",
       "  </thead>\n",
       "  <tbody>\n",
       "    <tr>\n",
       "      <th>0</th>\n",
       "      <td>1</td>\n",
       "      <td>Alice</td>\n",
       "      <td>alice@leetcode.com</td>\n",
       "    </tr>\n",
       "    <tr>\n",
       "      <th>2</th>\n",
       "      <td>3</td>\n",
       "      <td>Charlie</td>\n",
       "      <td>charlie_123@leetcode.com</td>\n",
       "    </tr>\n",
       "  </tbody>\n",
       "</table>\n",
       "</div>"
      ]
     },
     "execution_count": 116,
     "metadata": {},
     "output_type": "execute_result"
    }
   ],
   "execution_count": 116
  }
 ],
 "metadata": {
  "kernelspec": {
   "display_name": "Python 3",
   "language": "python",
   "name": "python3"
  },
  "language_info": {
   "codemirror_mode": {
    "name": "ipython",
    "version": 2
   },
   "file_extension": ".py",
   "mimetype": "text/x-python",
   "name": "python",
   "nbconvert_exporter": "python",
   "pygments_lexer": "ipython2",
   "version": "2.7.6"
  }
 },
 "nbformat": 4,
 "nbformat_minor": 5
}
