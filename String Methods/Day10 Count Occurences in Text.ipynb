{
 "cells": [
  {
   "metadata": {},
   "cell_type": "markdown",
   "source": [
    "#  Problem Title: Count Occurrences in Text\n",
    "\n",
    "🔗 [LeetCode Problem 2738 – Count Occurrences in Text](https://leetcode.com/problems/count-occurrences-in-text/)\n",
    "\n",
    "##  Category\n",
    "- Topic: **Standalone Word Count**\n",
    "- Difficulty: ⭐ Medium\n",
    "\n",
    "##  Problem Description\n",
    "You have a table `Files` with a column `content` containing text.\n",
    "Count how many files contain **at least one standalone occurrence** of each of the words `\"bull\"` and `\"bear\"`, **as separate words** (no partial matches like `\"bullet\"` or `\"bear.\"`).\n",
    "\n",
    "Return a table with two rows:\n",
    "\n",
    "| word | count |\n",
    "|------|-------|\n",
    "| bull |  X    |\n",
    "| bear |  Y    |\n",
    "\n",
    "Counts can be in any order.\n",
    "\n",
    "##  Key Concepts\n",
    "- Searching for **whole words**, not substrings\n",
    "- Filtering with **word boundaries** (e.g., spaces or start/end)\n",
    "- Aggregating via **sums/counts**\n",
    "- Using functions like `LIKE`, regex, or manual parsing"
   ],
   "id": "a5e243d59d9a3679"
  },
  {
   "cell_type": "code",
   "id": "initial_id",
   "metadata": {
    "collapsed": true,
    "ExecuteTime": {
     "end_time": "2025-08-19T20:14:22.151173Z",
     "start_time": "2025-08-19T20:14:22.143978Z"
    }
   },
   "source": [
    "from dataclasses import field\n",
    "\n",
    "import pandas as pd\n",
    "\n",
    "data = {\n",
    "    \"file_name\": [\"file1.txt\", \"file2.txt\", \"file3.txt\", \"file4.txt\", \"file5.txt\"],\n",
    "    \"content\": [\n",
    "        \"The bull market is strong\",\n",
    "        \"The bear market is weak\",\n",
    "        \"Both bull and bear are mentioned\",\n",
    "        \"This is a bullet point example\",\n",
    "        \"Just random text without keywords\"\n",
    "    ]\n",
    "}\n",
    "\n",
    "files = pd.DataFrame(data)\n",
    "files"
   ],
   "outputs": [
    {
     "data": {
      "text/plain": [
       "   file_name                            content\n",
       "0  file1.txt          The bull market is strong\n",
       "1  file2.txt            The bear market is weak\n",
       "2  file3.txt   Both bull and bear are mentioned\n",
       "3  file4.txt     This is a bullet point example\n",
       "4  file5.txt  Just random text without keywords"
      ],
      "text/html": [
       "<div>\n",
       "<style scoped>\n",
       "    .dataframe tbody tr th:only-of-type {\n",
       "        vertical-align: middle;\n",
       "    }\n",
       "\n",
       "    .dataframe tbody tr th {\n",
       "        vertical-align: top;\n",
       "    }\n",
       "\n",
       "    .dataframe thead th {\n",
       "        text-align: right;\n",
       "    }\n",
       "</style>\n",
       "<table border=\"1\" class=\"dataframe\">\n",
       "  <thead>\n",
       "    <tr style=\"text-align: right;\">\n",
       "      <th></th>\n",
       "      <th>file_name</th>\n",
       "      <th>content</th>\n",
       "    </tr>\n",
       "  </thead>\n",
       "  <tbody>\n",
       "    <tr>\n",
       "      <th>0</th>\n",
       "      <td>file1.txt</td>\n",
       "      <td>The bull market is strong</td>\n",
       "    </tr>\n",
       "    <tr>\n",
       "      <th>1</th>\n",
       "      <td>file2.txt</td>\n",
       "      <td>The bear market is weak</td>\n",
       "    </tr>\n",
       "    <tr>\n",
       "      <th>2</th>\n",
       "      <td>file3.txt</td>\n",
       "      <td>Both bull and bear are mentioned</td>\n",
       "    </tr>\n",
       "    <tr>\n",
       "      <th>3</th>\n",
       "      <td>file4.txt</td>\n",
       "      <td>This is a bullet point example</td>\n",
       "    </tr>\n",
       "    <tr>\n",
       "      <th>4</th>\n",
       "      <td>file5.txt</td>\n",
       "      <td>Just random text without keywords</td>\n",
       "    </tr>\n",
       "  </tbody>\n",
       "</table>\n",
       "</div>"
      ]
     },
     "execution_count": 42,
     "metadata": {},
     "output_type": "execute_result"
    }
   ],
   "execution_count": 42
  },
  {
   "metadata": {
    "ExecuteTime": {
     "end_time": "2025-08-19T20:16:23.227904Z",
     "start_time": "2025-08-19T20:16:23.222938Z"
    }
   },
   "cell_type": "code",
   "source": [
    "def count_occurences(files : pd.DataFrame) -> pd.DataFrame:\n",
    "\n",
    "    has_bull = files[\"content\"].apply(lambda s: \"bull\" in s.lower().split())\n",
    "    has_bear = files[\"content\"].apply(lambda s: \"bear\" in s.lower().split())\n",
    "\n",
    "    return pd.DataFrame([[\"bull\" , int(has_bull.sum())],\n",
    "                        [\"bear\" , int(has_bear.sum())]],\n",
    "                        columns = [\"word\" , \"count\"]\n",
    "                        )\n"
   ],
   "id": "69c317e0dc4d2f4a",
   "outputs": [],
   "execution_count": 43
  },
  {
   "metadata": {
    "ExecuteTime": {
     "end_time": "2025-08-19T20:16:34.096289Z",
     "start_time": "2025-08-19T20:16:34.090267Z"
    }
   },
   "cell_type": "code",
   "source": "count_occurences(files)",
   "id": "45cf86012473a1ec",
   "outputs": [
    {
     "data": {
      "text/plain": [
       "   word  count\n",
       "0  bull      2\n",
       "1  bear      2"
      ],
      "text/html": [
       "<div>\n",
       "<style scoped>\n",
       "    .dataframe tbody tr th:only-of-type {\n",
       "        vertical-align: middle;\n",
       "    }\n",
       "\n",
       "    .dataframe tbody tr th {\n",
       "        vertical-align: top;\n",
       "    }\n",
       "\n",
       "    .dataframe thead th {\n",
       "        text-align: right;\n",
       "    }\n",
       "</style>\n",
       "<table border=\"1\" class=\"dataframe\">\n",
       "  <thead>\n",
       "    <tr style=\"text-align: right;\">\n",
       "      <th></th>\n",
       "      <th>word</th>\n",
       "      <th>count</th>\n",
       "    </tr>\n",
       "  </thead>\n",
       "  <tbody>\n",
       "    <tr>\n",
       "      <th>0</th>\n",
       "      <td>bull</td>\n",
       "      <td>2</td>\n",
       "    </tr>\n",
       "    <tr>\n",
       "      <th>1</th>\n",
       "      <td>bear</td>\n",
       "      <td>2</td>\n",
       "    </tr>\n",
       "  </tbody>\n",
       "</table>\n",
       "</div>"
      ]
     },
     "execution_count": 44,
     "metadata": {},
     "output_type": "execute_result"
    }
   ],
   "execution_count": 44
  },
  {
   "metadata": {},
   "cell_type": "code",
   "outputs": [],
   "execution_count": null,
   "source": "",
   "id": "890d4c932503cf29"
  }
 ],
 "metadata": {
  "kernelspec": {
   "display_name": "Python 3",
   "language": "python",
   "name": "python3"
  },
  "language_info": {
   "codemirror_mode": {
    "name": "ipython",
    "version": 2
   },
   "file_extension": ".py",
   "mimetype": "text/x-python",
   "name": "python",
   "nbconvert_exporter": "python",
   "pygments_lexer": "ipython2",
   "version": "2.7.6"
  }
 },
 "nbformat": 4,
 "nbformat_minor": 5
}
