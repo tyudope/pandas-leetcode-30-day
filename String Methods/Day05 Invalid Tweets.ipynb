{
 "cells": [
  {
   "metadata": {},
   "cell_type": "markdown",
   "source": [
    "# 📍 Problem Title: Invalid Tweets\n",
    "\n",
    "🔗 [LeetCode Problem 1683 – Invalid Tweets](https://leetcode.com/problems/invalid-tweets/)\n",
    "\n",
    "## 🗂️ Category\n",
    "- Topic: **String length check**\n",
    "- Difficulty: ⭐ Easy\n",
    "\n",
    "## 📝 Problem Description\n",
    "You're given a table `Tweets` with the following columns:\n",
    "- `tweet_id` (int)\n",
    "- `content` (string)\n",
    "\n",
    "Write a query to find the IDs of tweets that are **invalid**.\n",
    "A tweet is invalid if its `content` length **exceeds 15 characters**.\n",
    "\n",
    "### ✅ Constraints:\n",
    "- Output only the `tweet_id` of invalid tweets.\n",
    "- Return results in any order.\n",
    "\n",
    "## 🧾 Example Input\n",
    "\n",
    "| tweet_id | content               |\n",
    "|----------|-----------------------|\n",
    "| 1        | Vote for Biden        |\n",
    "| 2        | Let us make America great again! |\n",
    "| 3        | Leetcode is awesome   |\n",
    "\n",
    "## ✅ Expected Output\n",
    "\n",
    "| tweet_id |\n",
    "|----------|\n",
    "| 2        |\n",
    "\n",
    "## 🧠 Key Concepts\n",
    "- String length calculation\n",
    "- Filtering rows based on string length\n",
    "- Selecting specific columns"
   ],
   "id": "8378f53b8a0b7545"
  },
  {
   "cell_type": "code",
   "id": "initial_id",
   "metadata": {
    "collapsed": true,
    "ExecuteTime": {
     "end_time": "2025-08-11T00:45:57.354419Z",
     "start_time": "2025-08-11T00:45:57.106628Z"
    }
   },
   "source": "import pandas as pd",
   "outputs": [],
   "execution_count": 1
  },
  {
   "metadata": {
    "ExecuteTime": {
     "end_time": "2025-08-11T00:46:11.849860Z",
     "start_time": "2025-08-11T00:46:11.839917Z"
    }
   },
   "cell_type": "code",
   "source": [
    "# Sample data\n",
    "data = [\n",
    "    [1, \"Vote for Biden\"],\n",
    "    [2, \"Let us make America great again!\"],\n",
    "    [3, \"Leetcode is awesome\"]\n",
    "]\n",
    "\n",
    "# Create DataFrame\n",
    "tweets = pd.DataFrame(data, columns=[\"tweet_id\", \"content\"])\n",
    "tweets"
   ],
   "id": "4071281953dd10a2",
   "outputs": [
    {
     "data": {
      "text/plain": [
       "   tweet_id                           content\n",
       "0         1                    Vote for Biden\n",
       "1         2  Let us make America great again!\n",
       "2         3               Leetcode is awesome"
      ],
      "text/html": [
       "<div>\n",
       "<style scoped>\n",
       "    .dataframe tbody tr th:only-of-type {\n",
       "        vertical-align: middle;\n",
       "    }\n",
       "\n",
       "    .dataframe tbody tr th {\n",
       "        vertical-align: top;\n",
       "    }\n",
       "\n",
       "    .dataframe thead th {\n",
       "        text-align: right;\n",
       "    }\n",
       "</style>\n",
       "<table border=\"1\" class=\"dataframe\">\n",
       "  <thead>\n",
       "    <tr style=\"text-align: right;\">\n",
       "      <th></th>\n",
       "      <th>tweet_id</th>\n",
       "      <th>content</th>\n",
       "    </tr>\n",
       "  </thead>\n",
       "  <tbody>\n",
       "    <tr>\n",
       "      <th>0</th>\n",
       "      <td>1</td>\n",
       "      <td>Vote for Biden</td>\n",
       "    </tr>\n",
       "    <tr>\n",
       "      <th>1</th>\n",
       "      <td>2</td>\n",
       "      <td>Let us make America great again!</td>\n",
       "    </tr>\n",
       "    <tr>\n",
       "      <th>2</th>\n",
       "      <td>3</td>\n",
       "      <td>Leetcode is awesome</td>\n",
       "    </tr>\n",
       "  </tbody>\n",
       "</table>\n",
       "</div>"
      ]
     },
     "execution_count": 2,
     "metadata": {},
     "output_type": "execute_result"
    }
   ],
   "execution_count": 2
  },
  {
   "metadata": {
    "ExecuteTime": {
     "end_time": "2025-08-11T00:49:56.847510Z",
     "start_time": "2025-08-11T00:49:56.841267Z"
    }
   },
   "cell_type": "code",
   "source": [
    "def invalid_tweets(tweets : pd.DataFrame) -> pd.DataFrame:\n",
    "    return tweets[tweets[\"content\"].str.len() > 15][[\"tweet_id\"]]\n"
   ],
   "id": "bf6342cd4d36d686",
   "outputs": [
    {
     "data": {
      "text/plain": [
       "   tweet_id\n",
       "1         2\n",
       "2         3"
      ],
      "text/html": [
       "<div>\n",
       "<style scoped>\n",
       "    .dataframe tbody tr th:only-of-type {\n",
       "        vertical-align: middle;\n",
       "    }\n",
       "\n",
       "    .dataframe tbody tr th {\n",
       "        vertical-align: top;\n",
       "    }\n",
       "\n",
       "    .dataframe thead th {\n",
       "        text-align: right;\n",
       "    }\n",
       "</style>\n",
       "<table border=\"1\" class=\"dataframe\">\n",
       "  <thead>\n",
       "    <tr style=\"text-align: right;\">\n",
       "      <th></th>\n",
       "      <th>tweet_id</th>\n",
       "    </tr>\n",
       "  </thead>\n",
       "  <tbody>\n",
       "    <tr>\n",
       "      <th>1</th>\n",
       "      <td>2</td>\n",
       "    </tr>\n",
       "    <tr>\n",
       "      <th>2</th>\n",
       "      <td>3</td>\n",
       "    </tr>\n",
       "  </tbody>\n",
       "</table>\n",
       "</div>"
      ]
     },
     "execution_count": 9,
     "metadata": {},
     "output_type": "execute_result"
    }
   ],
   "execution_count": 9
  },
  {
   "metadata": {
    "ExecuteTime": {
     "end_time": "2025-08-11T00:52:22.000585Z",
     "start_time": "2025-08-11T00:52:21.994876Z"
    }
   },
   "cell_type": "code",
   "source": "invalid_tweets(tweets)",
   "id": "df76e382ea07cce9",
   "outputs": [
    {
     "data": {
      "text/plain": [
       "   tweet_id\n",
       "1         2\n",
       "2         3"
      ],
      "text/html": [
       "<div>\n",
       "<style scoped>\n",
       "    .dataframe tbody tr th:only-of-type {\n",
       "        vertical-align: middle;\n",
       "    }\n",
       "\n",
       "    .dataframe tbody tr th {\n",
       "        vertical-align: top;\n",
       "    }\n",
       "\n",
       "    .dataframe thead th {\n",
       "        text-align: right;\n",
       "    }\n",
       "</style>\n",
       "<table border=\"1\" class=\"dataframe\">\n",
       "  <thead>\n",
       "    <tr style=\"text-align: right;\">\n",
       "      <th></th>\n",
       "      <th>tweet_id</th>\n",
       "    </tr>\n",
       "  </thead>\n",
       "  <tbody>\n",
       "    <tr>\n",
       "      <th>1</th>\n",
       "      <td>2</td>\n",
       "    </tr>\n",
       "    <tr>\n",
       "      <th>2</th>\n",
       "      <td>3</td>\n",
       "    </tr>\n",
       "  </tbody>\n",
       "</table>\n",
       "</div>"
      ]
     },
     "execution_count": 10,
     "metadata": {},
     "output_type": "execute_result"
    }
   ],
   "execution_count": 10
  },
  {
   "metadata": {},
   "cell_type": "code",
   "outputs": [],
   "execution_count": null,
   "source": "",
   "id": "7189afdc83dac2e3"
  }
 ],
 "metadata": {
  "kernelspec": {
   "display_name": "Python 3",
   "language": "python",
   "name": "python3"
  },
  "language_info": {
   "codemirror_mode": {
    "name": "ipython",
    "version": 2
   },
   "file_extension": ".py",
   "mimetype": "text/x-python",
   "name": "python",
   "nbconvert_exporter": "python",
   "pygments_lexer": "ipython2",
   "version": "2.7.6"
  }
 },
 "nbformat": 4,
 "nbformat_minor": 5
}
