{
 "cells": [
  {
   "metadata": {},
   "cell_type": "markdown",
   "source": [
    "# 📍 Problem Title: Recyclable and Low Fat Products.\n",
    "\n",
    "🔗 [LeetCode Problem 1757 – Recyclable and Low Fat Products](https://leetcode.com/problems/recyclable-and-low-fat-products/description/)\n",
    "\n",
    "## 🗂️ Category:\n",
    "- Topic: **Filtering with condition**\n",
    "- Difficulty: ⭐ Easy\n",
    "\n",
    "## 📝 Problem Description:\n",
    "\n",
    "- Column Name - Type\n",
    "- product_id  - int\n",
    "- low_fats    - enum\n",
    "- recyclable  - enum\n",
    "\n",
    "- product_id is the primary key (column with unique values) for this table.\n",
    "- low_fats is a ENUM (category) of types ('Y', 'N') where 'Y' means this product is low fat and 'N' means it is not.\n",
    "- recyclable is ENUM (category) of types ('Y', 'N') where 'Y' means this product is recyclable and 'N' means it is not.\n",
    "\n",
    "**Write a solution to find the ids of products that are both low fat and recyclable.**,\n",
    "\n",
    "**Return the result table in any order.**\n",
    "\n"
   ],
   "id": "da2c86335773ec5e"
  },
  {
   "metadata": {
    "ExecuteTime": {
     "end_time": "2025-08-04T23:27:32.700622Z",
     "start_time": "2025-08-04T23:27:32.384993Z"
    }
   },
   "cell_type": "code",
   "source": "import pandas as pd",
   "id": "da7220d806b49051",
   "outputs": [],
   "execution_count": 1
  },
  {
   "metadata": {
    "ExecuteTime": {
     "end_time": "2025-08-04T23:29:17.305394Z",
     "start_time": "2025-08-04T23:29:17.297804Z"
    }
   },
   "cell_type": "code",
   "source": [
    "data = [\n",
    "    [0 , \"Y\" , \"N\"],\n",
    "    [1 , \"Y\" , \"Y\"],\n",
    "    [2 , \"N\" , \"Y\"],\n",
    "    [3 , \"Y\" , \"Y\"],\n",
    "    [4 , \"N\" , \"N\"],\n",
    "]\n",
    "products = pd.DataFrame(data , columns =[\"product_id\" , \"low_fats\" , \"recyclable\"])"
   ],
   "id": "e1330f556e3eac3e",
   "outputs": [],
   "execution_count": 2
  },
  {
   "metadata": {
    "ExecuteTime": {
     "end_time": "2025-08-04T23:38:24.314015Z",
     "start_time": "2025-08-04T23:38:24.309427Z"
    }
   },
   "cell_type": "code",
   "source": [
    "def find_products(products : pd.DataFrame) -> pd.DataFrame:\n",
    "    low_fats = products[\"low_fats\"] ==  \"Y\"\n",
    "    recyclable = products[\"recyclable\"] == \"Y\"\n",
    "    return products[low_fats  & recyclable][[\"product_id\"]]\n",
    "    # quick note. product[low_fats & recyclable][\"product_id\"] -> returns pd.Series instead of pd.DataFrame.\n"
   ],
   "id": "1f9dbda610cd80cb",
   "outputs": [],
   "execution_count": 23
  },
  {
   "metadata": {
    "ExecuteTime": {
     "end_time": "2025-08-04T23:38:24.675147Z",
     "start_time": "2025-08-04T23:38:24.668038Z"
    }
   },
   "cell_type": "code",
   "source": "find_products(products)",
   "id": "714eddac03d6934d",
   "outputs": [
    {
     "data": {
      "text/plain": [
       "   product_id\n",
       "1           1\n",
       "3           3"
      ],
      "text/html": [
       "<div>\n",
       "<style scoped>\n",
       "    .dataframe tbody tr th:only-of-type {\n",
       "        vertical-align: middle;\n",
       "    }\n",
       "\n",
       "    .dataframe tbody tr th {\n",
       "        vertical-align: top;\n",
       "    }\n",
       "\n",
       "    .dataframe thead th {\n",
       "        text-align: right;\n",
       "    }\n",
       "</style>\n",
       "<table border=\"1\" class=\"dataframe\">\n",
       "  <thead>\n",
       "    <tr style=\"text-align: right;\">\n",
       "      <th></th>\n",
       "      <th>product_id</th>\n",
       "    </tr>\n",
       "  </thead>\n",
       "  <tbody>\n",
       "    <tr>\n",
       "      <th>1</th>\n",
       "      <td>1</td>\n",
       "    </tr>\n",
       "    <tr>\n",
       "      <th>3</th>\n",
       "      <td>3</td>\n",
       "    </tr>\n",
       "  </tbody>\n",
       "</table>\n",
       "</div>"
      ]
     },
     "execution_count": 24,
     "metadata": {},
     "output_type": "execute_result"
    }
   ],
   "execution_count": 24
  }
 ],
 "metadata": {
  "kernelspec": {
   "display_name": "Python 3",
   "language": "python",
   "name": "python3"
  },
  "language_info": {
   "codemirror_mode": {
    "name": "ipython",
    "version": 2
   },
   "file_extension": ".py",
   "mimetype": "text/x-python",
   "name": "python",
   "nbconvert_exporter": "python",
   "pygments_lexer": "ipython2",
   "version": "2.7.6"
  }
 },
 "nbformat": 4,
 "nbformat_minor": 5
}
