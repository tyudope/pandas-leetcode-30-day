{
 "cells": [
  {
   "metadata": {},
   "cell_type": "markdown",
   "source": [
    "# 📍 Problem Title: Customers Who Never Order\n",
    "\n",
    "🔗 [LeetCode Problem 183 – Customers Who Never Order](https://leetcode.com/problems/customers-who-never-order/)\n",
    "\n",
    "\n",
    "## 🗂️ Category\n",
    "- Topic: **Joining Tables**, **Filtering Nulls**\n",
    "- Difficulty: ⭐ Easy\n",
    "\n",
    "## 📝 Problem Description\n",
    "You are given two tables:\n",
    "- `Customers` – Contains customer IDs and names.\n",
    "- `Orders` – Contains orders placed by customers.\n",
    "\n",
    "Return the names of customers who **never placed any orders**.\n",
    "\n",
    "## 🧾 Example Input\n",
    "\n",
    "**Customers**\n",
    "\n",
    "| id | name   |\n",
    "|----|--------|\n",
    "| 1  | Joe    |\n",
    "| 2  | Henry  |\n",
    "| 3  | Sam    |\n",
    "| 4  | Max    |\n",
    "\n",
    "**Orders**\n",
    "\n",
    "| id | customerId |\n",
    "|----|------------|\n",
    "| 1  | 3          |\n",
    "| 2  | 1          |\n",
    "\n",
    "## ✅ Expected Output\n",
    "\n",
    "| Customers |\n",
    "|-----------|\n",
    "| Henry     |\n",
    "| Max       |\n",
    "\n",
    "## 🧠 Key Concepts\n",
    "- **LEFT JOIN**: Merge all customers and attach orders if any exist.\n",
    "- **NULL Filtering**: Identify customers who did not match any order.\n",
    "- **Column Renaming**: Match the expected output column name.\n",
    "\n",
    "## 🐼 Pandas Strategy\n",
    "1. Perform a **left join** between `Customers` and `Orders` on customer ID.\n",
    "2. Filter the merged DataFrame where `customerId` is `NaN` (no order placed).\n",
    "3. Rename `\"name\"` column to `\"Customers\"`.\n",
    "4. Return only the `\"Customers\"` column.\n",
    "\n"
   ],
   "id": "e276d872eda85d99"
  },
  {
   "cell_type": "code",
   "id": "initial_id",
   "metadata": {
    "collapsed": true,
    "ExecuteTime": {
     "end_time": "2025-08-05T22:10:09.820470Z",
     "start_time": "2025-08-05T22:10:09.817273Z"
    }
   },
   "source": [
    "from unittest import result\n",
    "\n",
    "import pandas as pd"
   ],
   "outputs": [],
   "execution_count": 38
  },
  {
   "metadata": {
    "ExecuteTime": {
     "end_time": "2025-08-05T22:10:09.840857Z",
     "start_time": "2025-08-05T22:10:09.837403Z"
    }
   },
   "cell_type": "code",
   "source": [
    "# CREATE A SAMPLE DATAFRAMES.\n",
    "\n",
    "c = [\n",
    "    [1 , \"Joe\"],\n",
    "    [2 , \"Henry\"],\n",
    "    [3 , \"Sam\"],\n",
    "    [4 , \"Max\"],\n",
    "]\n",
    "\n",
    "customers_df = pd.DataFrame(c, columns=['id','name'])\n",
    "\n",
    "o = [\n",
    "    [1 , 3],\n",
    "    [2,1]\n",
    "]\n",
    "orders_df = pd.DataFrame(o , columns = [\"id\" , \"customerId\"])"
   ],
   "id": "44d453da660b9de1",
   "outputs": [],
   "execution_count": 39
  },
  {
   "metadata": {
    "ExecuteTime": {
     "end_time": "2025-08-05T22:18:55.457858Z",
     "start_time": "2025-08-05T22:18:55.454772Z"
    }
   },
   "cell_type": "code",
   "source": [
    "def find_customers(customers : pd.DataFrame , orders : pd.DataFrame) -> pd.DataFrame:\n",
    "    # .merge() is a Pandas function used to join two dataFrames, similar to SQL joins like INNER, LEFT, OUTER, RIGHT etc.\n",
    "    # we're joining customers with orders dataFrame.\n",
    "    result = customers.merge(orders , left_on= \"id\" , right_on = \"customerId\" , how = \"left\")\n",
    "    # left_on = \"id\"\n",
    "    # We're using 'id' column from the left DataFrame(customers) as the join key.\n",
    "    # id represents the customer's unique ID\n",
    "\n",
    "    # right_on = \"customerId\"\n",
    "    # We're using the \"customerId\" column from the right dataFrame(orders) as the join key.\n",
    "    # customerId refers to the customer who placed an order.\n",
    "\n",
    "    # how = \"left\"\n",
    "    # We're performing a left join, which means:\n",
    "    #   Keep all rows from the customers DataFrame.\n",
    "    #   If a matching row exists in orders, bring its value.\n",
    "    #   If not match, fill with NaN.\n",
    "\n",
    "\n",
    "    result = result[result[\"customerId\"].isna()]\n",
    "    # Filters the result DataFrame only include rows where customerId is Nan.\n",
    "    # These rows represent customers who never placed any orders, because there was no match found during\n",
    "    # the left join.\n",
    "    # isna() ?\n",
    "    # Returns True for missing values like (SQL's IS NULL)\n",
    "\n",
    "    result.rename(columns= {\"name\" : \"Customers\"} , inplace = True)\n",
    "    # Changes the column name, name -> Customers, (to match the output format which leetcode expect from us).\n",
    "    # Modifies dataFrame without needing to reassign again.\n",
    "\n",
    "    # this is the final output that lists customers who never ordered.\n",
    "    return result[[\"Customers\"]] # Returns a new DataFrame with just one column \"Customers.\"\n"
   ],
   "id": "51db927805865dbc",
   "outputs": [],
   "execution_count": 44
  },
  {
   "metadata": {
    "ExecuteTime": {
     "end_time": "2025-08-05T22:18:56.124447Z",
     "start_time": "2025-08-05T22:18:56.116245Z"
    }
   },
   "cell_type": "code",
   "source": "find_customers(customers_df,orders_df)",
   "id": "cace9494d6c9cf56",
   "outputs": [
    {
     "data": {
      "text/plain": [
       "  Customers\n",
       "1     Henry\n",
       "3       Max"
      ],
      "text/html": [
       "<div>\n",
       "<style scoped>\n",
       "    .dataframe tbody tr th:only-of-type {\n",
       "        vertical-align: middle;\n",
       "    }\n",
       "\n",
       "    .dataframe tbody tr th {\n",
       "        vertical-align: top;\n",
       "    }\n",
       "\n",
       "    .dataframe thead th {\n",
       "        text-align: right;\n",
       "    }\n",
       "</style>\n",
       "<table border=\"1\" class=\"dataframe\">\n",
       "  <thead>\n",
       "    <tr style=\"text-align: right;\">\n",
       "      <th></th>\n",
       "      <th>Customers</th>\n",
       "    </tr>\n",
       "  </thead>\n",
       "  <tbody>\n",
       "    <tr>\n",
       "      <th>1</th>\n",
       "      <td>Henry</td>\n",
       "    </tr>\n",
       "    <tr>\n",
       "      <th>3</th>\n",
       "      <td>Max</td>\n",
       "    </tr>\n",
       "  </tbody>\n",
       "</table>\n",
       "</div>"
      ]
     },
     "execution_count": 45,
     "metadata": {},
     "output_type": "execute_result"
    }
   ],
   "execution_count": 45
  },
  {
   "metadata": {
    "ExecuteTime": {
     "end_time": "2025-08-05T22:10:09.891757Z",
     "start_time": "2025-08-05T22:10:09.890332Z"
    }
   },
   "cell_type": "code",
   "source": "",
   "id": "9bc4fddb575e3b55",
   "outputs": [],
   "execution_count": null
  }
 ],
 "metadata": {
  "kernelspec": {
   "display_name": "Python 3",
   "language": "python",
   "name": "python3"
  },
  "language_info": {
   "codemirror_mode": {
    "name": "ipython",
    "version": 2
   },
   "file_extension": ".py",
   "mimetype": "text/x-python",
   "name": "python",
   "nbconvert_exporter": "python",
   "pygments_lexer": "ipython2",
   "version": "2.7.6"
  }
 },
 "nbformat": 4,
 "nbformat_minor": 5
}
