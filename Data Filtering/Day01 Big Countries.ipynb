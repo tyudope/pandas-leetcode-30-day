{
 "cells": [
  {
   "metadata": {},
   "cell_type": "markdown",
   "source": [
    "    #📍 Problem Title: Big Countries\n",
    "\n",
    "## 🗂️ Category\n",
    "- SQL Type: **Basic SELECT + WHERE**\n",
    "- Topic: **Filtering with Conditions**, **Logical OR**\n",
    "- Difficulty: ⭐ Easy\n",
    "\n",
    "## 📝 Problem Description\n",
    "A country is considered \"big\" if:\n",
    "- It has an area of at least 3,000,000 km² **OR**\n",
    "- A population of at least 25,000,000\n",
    "\n",
    "Write a query to return the **name**, **population**, and **area** of the big countries.\n",
    "\n",
    "Return the result in any order.\n",
    "\n",
    "## 🧾 Example Output\n",
    "| name     | population | area     |\n",
    "|----------|------------|----------|\n",
    "| China    | 1.4B       | 9.6M km² |\n",
    "| USA      | 331M       | 9.8M km² |\n",
    "\n",
    "*(Numbers here are illustrative)*\n",
    "\n",
    "## 🧠 Key Concepts\n",
    "- Filtering rows with `WHERE`\n",
    "- Logical conditions with `OR`\n",
    "- Selecting specific columns\n",
    "\n",
    "## ✅ Solution (SQL)\n",
    "```sql\n",
    "SELECT name, population, area\n",
    "FROM World\n",
    "WHERE area >= 3000000 OR population >= 25000000;"
   ],
   "id": "719bec48407c5405"
  },
  {
   "cell_type": "code",
   "id": "initial_id",
   "metadata": {
    "collapsed": true,
    "ExecuteTime": {
     "end_time": "2025-08-04T09:42:08.112249Z",
     "start_time": "2025-08-04T09:42:07.534109Z"
    }
   },
   "source": "import pandas as pd",
   "outputs": [],
   "execution_count": 1
  },
  {
   "metadata": {
    "ExecuteTime": {
     "end_time": "2025-08-04T09:42:13.002864Z",
     "start_time": "2025-08-04T09:42:12.994573Z"
    }
   },
   "cell_type": "code",
   "source": [
    "#Creating sample database.\n",
    "\n",
    "data = [['Afghanistan', 'Asia', 652230, 25500100, 20343000000], ['Albania', 'Europe', 28748, 2831741, 12960000000], ['Algeria', 'Africa', 2381741, 37100000, 188681000000], ['Andorra', 'Europe', 468, 78115, 3712000000], ['Angola', 'Africa', 1246700, 20609294, 100990000000]]\n",
    "\n",
    "world = pd.DataFrame(data, columns=['name', 'continent', 'area', 'population', 'gdp']).astype({'name':'object', 'continent':'object', 'area':'Int64', 'population':'Int64', 'gdp':'Int64'})"
   ],
   "id": "e499a53495ad736",
   "outputs": [],
   "execution_count": 2
  },
  {
   "metadata": {},
   "cell_type": "markdown",
   "source": [
    "## 🐼 Solution (Pandas)\n",
    "\n",
    "Filter the DataFrame to include only countries with:\n",
    "- Area ≥ 3,000,000 or\n",
    "- Population ≥ 25,000,000\n",
    "\n",
    "Then return only the required columns: `name`, `population`, and `area`."
   ],
   "id": "c8ffbbc8b1f0d931"
  },
  {
   "metadata": {
    "ExecuteTime": {
     "end_time": "2025-08-04T09:43:14.765057Z",
     "start_time": "2025-08-04T09:43:14.762183Z"
    }
   },
   "cell_type": "code",
   "source": [
    "# SOLUTION\n",
    "def big_countries(world: pd.DataFrame) -> pd.DataFrame:\n",
    "        return world[(world[\"area\"] >= 3000000) | (world[\"population\"] >= 25000000)][[\"name\" , \"population\" , \"area\"]]\n"
   ],
   "id": "eae443e9aa38fb6a",
   "outputs": [],
   "execution_count": 3
  },
  {
   "metadata": {
    "ExecuteTime": {
     "end_time": "2025-08-04T09:43:23.613208Z",
     "start_time": "2025-08-04T09:43:23.600885Z"
    }
   },
   "cell_type": "code",
   "source": [
    "# Test\n",
    "big_countries(world)"
   ],
   "id": "a90cc349d19e1b74",
   "outputs": [
    {
     "data": {
      "text/plain": [
       "          name  population     area\n",
       "0  Afghanistan    25500100   652230\n",
       "2      Algeria    37100000  2381741"
      ],
      "text/html": [
       "<div>\n",
       "<style scoped>\n",
       "    .dataframe tbody tr th:only-of-type {\n",
       "        vertical-align: middle;\n",
       "    }\n",
       "\n",
       "    .dataframe tbody tr th {\n",
       "        vertical-align: top;\n",
       "    }\n",
       "\n",
       "    .dataframe thead th {\n",
       "        text-align: right;\n",
       "    }\n",
       "</style>\n",
       "<table border=\"1\" class=\"dataframe\">\n",
       "  <thead>\n",
       "    <tr style=\"text-align: right;\">\n",
       "      <th></th>\n",
       "      <th>name</th>\n",
       "      <th>population</th>\n",
       "      <th>area</th>\n",
       "    </tr>\n",
       "  </thead>\n",
       "  <tbody>\n",
       "    <tr>\n",
       "      <th>0</th>\n",
       "      <td>Afghanistan</td>\n",
       "      <td>25500100</td>\n",
       "      <td>652230</td>\n",
       "    </tr>\n",
       "    <tr>\n",
       "      <th>2</th>\n",
       "      <td>Algeria</td>\n",
       "      <td>37100000</td>\n",
       "      <td>2381741</td>\n",
       "    </tr>\n",
       "  </tbody>\n",
       "</table>\n",
       "</div>"
      ]
     },
     "execution_count": 4,
     "metadata": {},
     "output_type": "execute_result"
    }
   ],
   "execution_count": 4
  },
  {
   "metadata": {},
   "cell_type": "code",
   "outputs": [],
   "execution_count": null,
   "source": "",
   "id": "8036e58a11cf2db6"
  }
 ],
 "metadata": {
  "kernelspec": {
   "display_name": "Python 3",
   "language": "python",
   "name": "python3"
  },
  "language_info": {
   "codemirror_mode": {
    "name": "ipython",
    "version": 2
   },
   "file_extension": ".py",
   "mimetype": "text/x-python",
   "name": "python",
   "nbconvert_exporter": "python",
   "pygments_lexer": "ipython2",
   "version": "2.7.6"
  }
 },
 "nbformat": 4,
 "nbformat_minor": 5
}
